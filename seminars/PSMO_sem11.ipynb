{
  "cells": [
    {
      "cell_type": "markdown",
      "metadata": {
        "id": "uANWzKXDo7tH"
      },
      "source": [
        "## Прикладная статистика в машинном обучении"
      ]
    },
    {
      "cell_type": "markdown",
      "metadata": {
        "id": "mbtN6ILUo7tJ"
      },
      "source": [
        "### Семинар 11: Bootstrap"
      ]
    },
    {
      "cell_type": "markdown",
      "metadata": {
        "id": "ap6PSCH8o7tJ"
      },
      "source": [
        "#### Идея."
      ]
    },
    {
      "cell_type": "markdown",
      "metadata": {
        "id": "cGaenXiOo7tK"
      },
      "source": [
        "Пусть на основе выборки $X_1,$ $\\ldots$, $X_n$ мы каким-то способом получили точечную оценку неизвестного параметра $\\theta$ и обозначили её $\\hat{\\theta}$. Теперь наша цель состоит в том, чтобы построить асимптотический доверительный интервал для $\\theta$. Bootstrap предлагает оценить дисперсию $\\hat{\\theta}$ на основе тех же данных, на которых была получена сама оценка $\\hat{\\theta}$."
      ]
    },
    {
      "cell_type": "markdown",
      "metadata": {
        "id": "76ZIC9QMo7tK"
      },
      "source": [
        "> \"Pull oneself up by one's bootstraps\": *(idiomatic) To succeed only by one's own efforts or abilities.* (Wiktionary)"
      ]
    },
    {
      "cell_type": "markdown",
      "metadata": {
        "id": "e2B0eo0Ko7tK"
      },
      "source": [
        "---"
      ]
    },
    {
      "cell_type": "markdown",
      "metadata": {
        "id": "viakkyino7tK"
      },
      "source": [
        "#### Построение выборки (Sampling)."
      ]
    },
    {
      "cell_type": "markdown",
      "metadata": {
        "id": "HJG8z9T4o7tL"
      },
      "source": [
        "Вспомним, что *построением выборки (sampling)* называется выбор элементов генеральной совокупности (какого-то множетства или распределения). Случайная выборка строится путём случайного выбора наблюдений. Случайную выборку можно строить двумя способами:\n",
        "- без возвращения (without replacement, simple random sampling),\n",
        "- с возвращением (with replacement).\n",
        "\n",
        "**Вопросы на подумать:**\n",
        "1. Можно ли рассматривать построение выборки с возвращением из множества $\\{1, 2, \\ldots, 8\\}$ как процедуру последовательного подбрасывания восьмигранной кости?\n",
        "2. Когда на практике построение выборки с возвращением и без возвращения эквивалентны?"
      ]
    },
    {
      "cell_type": "markdown",
      "metadata": {
        "id": "reV2VPMZo7tL"
      },
      "source": [
        "---"
      ]
    },
    {
      "cell_type": "markdown",
      "metadata": {
        "id": "6pNrBFuzo7tM"
      },
      "source": [
        "#### Эмпирическая функция распределения.\n",
        "\n",
        "Также вспомним, что на основе выборки можно построить оценку функции распределения, из которого были взяты наблюдения. Для этого для каждого значения $x_i$ рассчитывается его доля в выборке."
      ]
    },
    {
      "cell_type": "markdown",
      "metadata": {
        "id": "XIlRELIqo7tM"
      },
      "source": [
        "---"
      ]
    },
    {
      "cell_type": "markdown",
      "metadata": {
        "id": "hgbJ0Izvo7tM"
      },
      "source": [
        "#### Построение boostrap-выборки (Resampling)."
      ]
    },
    {
      "cell_type": "markdown",
      "metadata": {
        "id": "35tN8Kogo7tN"
      },
      "source": [
        "*Построением boostrap-выборки (resampling)* называется **построение выборки с возвращением из эмпирического распределения**.\n",
        "\n",
        "**Пример 1:** пусть имеется набор чисел $1$, $1$, $2$, $3$, $10$, $11$, $11$, который рассматривается как выборка, взятая из какого-то распределения. Чтобы построить выборку с возвращением из эмпирического распределения, мы должны сложить эти числа в шляпу и не глядя вытаскивать их одно за другим, записывая результат и возвращая число обратно.\n",
        "\n",
        "**Формально:** пусть дана выборка $X_1$, $\\ldots$, $X_n$. Построением boostrap-выборки называется выбор номера $i$ из равновероятного на $\\{1, 2, \\ldots n\\}$ распределения и взятие $X_i$ как одного значения этой выборки.\n",
        "\n",
        "**Продолжение примера 1:** пусть мы хотим построить boostrap-выборку размера 3 для чисел из примера 1. Тогда мы можем подбросить семигранную (так как семь наблюдений) кость три раза и, например, получить:\n",
        "$$\n",
        "3, 3, 7, 1\n",
        "$$\n",
        "Тогда boostrap-выборка будет:\n",
        "$$\n",
        "2, 2, 11, 1\n",
        "$$\n",
        "\n",
        "Будем обозначать boostrap-выборку как $X_1^*$, $\\ldots$, $X_m^*$."
      ]
    },
    {
      "cell_type": "markdown",
      "metadata": {
        "id": "jJOWiqf3o7tN"
      },
      "source": [
        "---"
      ]
    },
    {
      "cell_type": "markdown",
      "metadata": {
        "id": "ojwdr--7o7tN"
      },
      "source": [
        "#### Эмпирический bootstrap.\n",
        "\n",
        "*Выборкой эмпирического bootstrap* нызвается boostrap-выборка того же размера, что и оригинальная выборка:\n",
        "\n",
        "для выборки $X_1$, $\\ldots$, $X_n$ это $X_1^*$, $\\ldots$, $X_n^*$. Тогда boostrap говорит, что $F \\approx F^*$, а дисперсия статистики, рассчитанной на основе выборки $X$, примерно равна дисперсии статистики, рассчитанной на основе $X^*$.\n",
        "\n",
        "## Зачем это нужно?\n",
        "\n",
        "У нас есть выборка, нам кажется, что наблюдаемые значения распределены нормально, но p-value гипотезы о принадлежности наблюдаемой выборки нормальному распределению равно 0.049. Чтобы не лукавить при использовании теорем, основанных на принадлежности данного распределения нормальному, не будем принимать гипотезу и оцениваем требуемые доверительные параметров с помощью бутстрапирования, а не традиционных формул."
      ]
    },
    {
      "cell_type": "markdown",
      "metadata": {
        "id": "wHbVcDr1o7tN"
      },
      "source": [
        "#### 1. Reverse bootstrap percentile."
      ]
    },
    {
      "cell_type": "markdown",
      "metadata": {
        "id": "XiQ1iKmRo7tO"
      },
      "source": [
        "**Пример 2:** пусть дана выборка из некоторого распределения с конечным матожиданием $\\mu$:"
      ]
    },
    {
      "cell_type": "code",
      "execution_count": null,
      "metadata": {
        "id": "9h9BvLv4o7tO"
      },
      "outputs": [],
      "source": [
        "X = [30, 37, 36, 43, 42, 43, 43, 46, 41, 42]"
      ]
    },
    {
      "cell_type": "markdown",
      "metadata": {
        "id": "bA-h78hyo7tO"
      },
      "source": [
        "Постройте 80% доверительный интервал для $\\mu$."
      ]
    },
    {
      "cell_type": "code",
      "execution_count": null,
      "metadata": {
        "id": "fM0nWM6Xo7tP"
      },
      "outputs": [],
      "source": [
        "import numpy as np\n",
        "import matplotlib.pyplot as plt\n",
        "import seaborn as sns\n",
        "sns.set()"
      ]
    },
    {
      "cell_type": "code",
      "execution_count": null,
      "metadata": {
        "id": "rqeCII1Wo7tP",
        "outputId": "cf2f2d71-a3c3-4a22-a682-d7d422effbb3",
        "colab": {
          "base_uri": "https://localhost:8080/"
        }
      },
      "outputs": [
        {
          "output_type": "execute_result",
          "data": {
            "text/plain": [
              "40.3"
            ]
          },
          "metadata": {},
          "execution_count": 3
        }
      ],
      "source": [
        "## Шаг 1: Найдите точечную оценку неизвестного параметра\n",
        "# (ML)\n",
        "mu_hat = np.mean(X)\n",
        "mu_hat"
      ]
    },
    {
      "cell_type": "markdown",
      "metadata": {
        "id": "II7JF_PCo7tP"
      },
      "source": [
        "Мы бы хотели найти распределение величины $d = \\hat{X} - \\mu$, потому что тогда мы можем построить доверительный интервал для $\\mu$ как\n",
        "$$\n",
        "P(d_{0.9} \\le \\bar{X} - \\mu \\le d_{0.1}) = 0.8 \\Rightarrow \\mu \\in [\\bar{x} - d_{0.1}; \\bar{x} - d_{0.9}].\n",
        "$$\n",
        "\n",
        "Boostrap говорит, что распределение $d$ можно приблизить распределением $d^* = \\bar{x^*} - \\bar{x}$.\n",
        "\n",
        "Удача заключается в том, что можно сгенерировать $d^*$ сколько угодно раз, а потому возможно получить достаточно точную оценку распределения $d^*$."
      ]
    },
    {
      "cell_type": "code",
      "execution_count": null,
      "metadata": {
        "id": "18129bwoo7tQ",
        "outputId": "5149ff29-4791-40f3-e641-44d4ec25d7d5",
        "colab": {
          "base_uri": "https://localhost:8080/"
        }
      },
      "outputs": [
        {
          "output_type": "execute_result",
          "data": {
            "text/plain": [
              "array([[43, 43, 43, ..., 46, 42, 46],\n",
              "       [30, 42, 37, ..., 41, 46, 43],\n",
              "       [41, 42, 30, ..., 41, 43, 43],\n",
              "       ...,\n",
              "       [43, 43, 43, ..., 41, 43, 41],\n",
              "       [36, 30, 42, ..., 43, 30, 42],\n",
              "       [41, 30, 46, ..., 37, 37, 42]])"
            ]
          },
          "metadata": {},
          "execution_count": 11
        }
      ],
      "source": [
        "## Шаг 2: Сгенерируйте 20 bootstrap-выборок из X и сохраните их в матрицу n x 20\n",
        "np.random.seed(1234)\n",
        "bootstrap_samples = np.random.choice(X, size = (len(X), 2000), replace = True)\n",
        "bootstrap_samples"
      ]
    },
    {
      "cell_type": "code",
      "execution_count": null,
      "metadata": {
        "id": "4EjIrAfAo7tQ",
        "outputId": "39ba3274-e7e8-41f2-f3f7-f9fd28eb6ab2",
        "colab": {
          "base_uri": "https://localhost:8080/"
        }
      },
      "outputs": [
        {
          "output_type": "execute_result",
          "data": {
            "text/plain": [
              "array([38.9, 38.7, 39.6, ..., 40.2, 40.7, 42.8])"
            ]
          },
          "metadata": {},
          "execution_count": 12
        }
      ],
      "source": [
        "# Шаг 3: Рассчитайте выборочное среднее по каждой bootstrap-выборке\n",
        "bootstrap_means = np.mean(bootstrap_samples, axis = 0)\n",
        "bootstrap_means"
      ]
    },
    {
      "cell_type": "code",
      "execution_count": null,
      "metadata": {
        "id": "fePxLDTeo7tQ",
        "outputId": "76b4a711-7243-4851-b7ed-748e5cc0aa9c",
        "colab": {
          "base_uri": "https://localhost:8080/"
        }
      },
      "outputs": [
        {
          "output_type": "execute_result",
          "data": {
            "text/plain": [
              "array([-1.4, -1.6, -0.7, ..., -0.1,  0.4,  2.5])"
            ]
          },
          "metadata": {},
          "execution_count": 13
        }
      ],
      "source": [
        "# Шаг 4: Рассчитайте d*\n",
        "d_star = bootstrap_means - mu_hat\n",
        "d_star"
      ]
    },
    {
      "cell_type": "code",
      "source": [
        "d_star_quant = np.quantile(d_star, (0.1, 0.9))\n",
        "d_star_quant"
      ],
      "metadata": {
        "colab": {
          "base_uri": "https://localhost:8080/"
        },
        "id": "KNrPoapw2rbN",
        "outputId": "ecf94183-20a0-4858-a58e-4cf60561d13f"
      },
      "execution_count": null,
      "outputs": [
        {
          "output_type": "execute_result",
          "data": {
            "text/plain": [
              "array([-1.9,  1.7])"
            ]
          },
          "metadata": {},
          "execution_count": 14
        }
      ]
    },
    {
      "cell_type": "code",
      "execution_count": null,
      "metadata": {
        "id": "EnyRgMOko7tQ",
        "outputId": "138a8bcf-4e1d-44a7-d584-ff67c96d4a9a",
        "colab": {
          "base_uri": "https://localhost:8080/"
        }
      },
      "outputs": [
        {
          "output_type": "execute_result",
          "data": {
            "text/plain": [
              "array([-2. ,  1.7])"
            ]
          },
          "metadata": {},
          "execution_count": 9
        }
      ],
      "source": [
        "# Шаг 5: Найдите 0.1 и 0.9 квантили для d_star\n",
        "d_star_quant = np.quantile(d_star, (0.1, 0.9))\n",
        "d_star_quant"
      ]
    },
    {
      "cell_type": "code",
      "execution_count": null,
      "metadata": {
        "id": "EiOWKGeXo7tQ",
        "outputId": "c5aa9fa9-ed2e-4499-bf1e-07690f16ffa1",
        "colab": {
          "base_uri": "https://localhost:8080/"
        }
      },
      "outputs": [
        {
          "output_type": "stream",
          "name": "stdout",
          "text": [
            "[ 38.599999999999994 ; 42.3 ]\n"
          ]
        }
      ],
      "source": [
        "# Шаг 6: Постройте 80%-ый доверительный интервал для mu\n",
        "LB = mu_hat - d_star_quant[1]\n",
        "UB = mu_hat - d_star_quant[0]\n",
        "print('[', LB, ';', UB, ']')"
      ]
    },
    {
      "cell_type": "markdown",
      "metadata": {
        "id": "8qHjQfX6o7tR"
      },
      "source": [
        "**Пример 3:** для той же выборки постройте 90%-ый доверительный интервал для медианы."
      ]
    },
    {
      "cell_type": "code",
      "execution_count": null,
      "metadata": {
        "id": "DL31vg-Zo7tR",
        "outputId": "b990eae2-6812-43ef-9143-41fab278393f",
        "colab": {
          "base_uri": "https://localhost:8080/"
        }
      },
      "outputs": [
        {
          "output_type": "stream",
          "name": "stdout",
          "text": [
            "42.0\n",
            "[ 0.   1.   1.  ...  0.   0.5 -1. ]\n",
            "[-3.5  1. ]\n",
            "[ 41.0 ; 45.5 ]\n"
          ]
        }
      ],
      "source": [
        "from seaborn.algorithms import bootstrap\n",
        "## Шаг 1: Найдите точечную оценку неизвестного параметра\n",
        "med = np.median(X)\n",
        "print(med)\n",
        "## Шаг 2: Сгенерируйте 100 boostrap-выборок из X и сохраните их в матрицу n x 100\n",
        "bootstrap_samples = np.random.choice(X, size = (len(X), 10000), replace = True)\n",
        "# Шаг 3: Рассчитайте выборочную медиану по каждой bootstrap-выборке\n",
        "bootstrap_medians = np.median(bootstrap_samples, axis = 0)\n",
        "# Шаг 4: Рассчитайте d*\n",
        "d_star = bootstrap_medians - med\n",
        "print(d_star)\n",
        "# Шаг 5: Найдите 0.05 и 0.95 квантили для d_star\n",
        "d_star_quant = np.quantile(d_star, (0.05, 0.95))\n",
        "print(d_star_quant)\n",
        "# Шаг 6: Постройте 90%-ый доверительный интервал для медианы\n",
        "LB = med - d_star_quant[1]\n",
        "UB = med - d_star_quant[0]\n",
        "print('[', LB, ';', UB, ']')"
      ]
    },
    {
      "cell_type": "markdown",
      "metadata": {
        "id": "pfHXEyeVo7tR"
      },
      "source": [
        "#### 2. t-bootstrap"
      ]
    },
    {
      "cell_type": "markdown",
      "metadata": {
        "id": "gY3xIXFEo7tR"
      },
      "source": [
        "**Идея:** сгенерировать не $d^*$, а \n",
        "$$\n",
        "t^* = \\dfrac{\\hat{\\theta^*} - \\hat{\\theta}}{se^{*}}\n",
        "$$"
      ]
    },
    {
      "cell_type": "markdown",
      "metadata": {
        "id": "9teaixU8o7tR"
      },
      "source": [
        "**Пример 4:** для той же выборки постройте 80%-ый доверительный интервал для $\\mu$."
      ]
    },
    {
      "cell_type": "code",
      "execution_count": null,
      "metadata": {
        "id": "4bID7fiVo7tR",
        "outputId": "43c14c55-905c-4431-8272-3d343c877013"
      },
      "outputs": [
        {
          "name": "stdout",
          "output_type": "stream",
          "text": [
            "[ 36.785933431263096 ; 42.156453689875775 ]\n"
          ]
        }
      ],
      "source": [
        "## Шаг 1: Найдите точечную оценку неизвестного параметра\n",
        "x_hat = np.mean(X)\n",
        "## Шаг 2: Сгенерируйте 100 boostrap-выборок из X и сохраните их в матрицу n x 100\n",
        "bootstrap_samples = np.random.choice(X, size = (len(X), 100), replace = True)\n",
        "# Шаг 3: Рассчитайте выборочное среднее по каждой bootstrap-выборке\n",
        "bootstrap_means = np.mean(bootstrap_samples, axis = 0)\n",
        "# Шаг 4: Рассчитайте стандартную ошибку по каждой bootstrap-выборке\n",
        "bootstrap_ses = np.std(bootstrap_samples, axis = 0)\n",
        "# Шаг 5: Рассчитайте t*\n",
        "t_star = (bootstrap_means - x_hat) / bootstrap_ses\n",
        "# Шаг 6: Найдите 0.1 и 0.9 квантили для t_star\n",
        "t_star_quant = np.quantile(t_star, (0.1, 0.9))\n",
        "# Шаг 7: Постройте 80%-ый доверительный интервал для mu\n",
        "LB = x_hat - t_star_quant[1] * np.std(X)\n",
        "UB = x_hat - t_star_quant[0] * np.std(X)\n",
        "print('[', LB, ';', UB, ']')"
      ]
    },
    {
      "cell_type": "markdown",
      "source": [
        "А как считать t-bootstrap, если оцениваем медиану? Что использовать как стандартное отклонение?"
      ],
      "metadata": {
        "id": "ExX3gbK74wkZ"
      }
    },
    {
      "cell_type": "markdown",
      "metadata": {
        "id": "HNV9uvhmo7tR"
      },
      "source": [
        "#### 3. Bootstrap percentile method\n",
        "\n",
        "**!Danger:** не используйте этот метод."
      ]
    },
    {
      "cell_type": "markdown",
      "metadata": {
        "id": "dHHl-HrOo7tS"
      },
      "source": [
        "**Идея:** использовать распределение не $d^*$, а распределение $\\hat{\\theta^*}$.\n",
        "\n",
        "**Пример 5:** для той же выборки постройте 80%-ый доверительный интервал для $\\mu$."
      ]
    },
    {
      "cell_type": "code",
      "execution_count": null,
      "metadata": {
        "id": "fh47gdVmo7tS",
        "outputId": "2ed2125f-cd4f-441e-d26a-9419cf48a5e3"
      },
      "outputs": [
        {
          "name": "stdout",
          "output_type": "stream",
          "text": [
            "[ 38.7 ; 42.01 ]\n"
          ]
        }
      ],
      "source": [
        "## Шаг 1: Сгенерируйте 100 boostrap-выборок из X и сохраните их в матрицу n x 100\n",
        "bootstrap_samples = np.random.choice(X, size = (len(X), 100), replace = True)\n",
        "# Шаг 2: Рассчитайте выборочное среднее по каждой bootstrap-выборке\n",
        "bootstrap_means = np.mean(bootstrap_samples, axis = 0)\n",
        "# Шаг 3: Найдите 0.1 и 0.9 квантили для bootstrap_means\n",
        "quant = np.quantile(bootstrap_means, (0.1, 0.9))\n",
        "# Шаг 4: Постройте 80%-ый доверительный интервал для mu\n",
        "LB = quant[0]\n",
        "UB = quant[1]\n",
        "print('[', LB, ';', UB, ']')"
      ]
    },
    {
      "cell_type": "markdown",
      "metadata": {
        "id": "0Lehoi0Go7tS"
      },
      "source": [
        "**Пример 6:** покажите, насколько хорошо различные эмпирические доверительные интервалы накрывают истинное значение параметра."
      ]
    },
    {
      "cell_type": "code",
      "execution_count": null,
      "metadata": {
        "id": "_y3C9r3eo7tS"
      },
      "outputs": [],
      "source": [
        "rbp_up = 0\n",
        "tb = 0\n",
        "bpm = 0\n",
        "\n",
        "for i in range(100000):\n",
        "    Y = np.random.normal(4, 0.25, 100)\n",
        "    \n",
        "    # RBP\n",
        "    mu_hat = np.mean(Y)\n",
        "    bootstrap_samples = np.random.choice(Y, size = (len(Y), 100), replace = True)\n",
        "    bootstrap_means = np.mean(bootstrap_samples, axis = 0)\n",
        "    d_star = bootstrap_means - mu_hat\n",
        "    d_star_quant = np.quantile(d_star, (0.1, 0.9))\n",
        "    LB = mu_hat - d_star_quant[1]\n",
        "    UB = mu_hat - d_star_quant[0]\n",
        "    \n",
        "    if (LB <= 4) & (UB >= 4):\n",
        "        rbp_up += 1\n",
        "    \n",
        "    # TB\n",
        "    x_hat = np.mean(Y)\n",
        "    bootstrap_samples = np.random.choice(Y, size = (len(Y), 100), replace = True)\n",
        "    bootstrap_means = np.mean(bootstrap_samples, axis = 0)\n",
        "    bootstrap_ses = np.std(bootstrap_samples, axis = 0)\n",
        "    t_star = (bootstrap_means - x_hat) / bootstrap_ses\n",
        "    t_star_quant = np.quantile(t_star, (0.1, 0.9))\n",
        "    LB = x_hat - t_star_quant[1] * np.std(Y)\n",
        "    UB = x_hat - t_star_quant[0] * np.std(Y)\n",
        "    \n",
        "    if (LB <= 4) & (UB >= 4):\n",
        "        tb += 1\n",
        "        \n",
        "    # BP\n",
        "    bootstrap_samples = np.random.choice(Y, size = (len(Y), 100), replace = True)\n",
        "    bootstrap_means = np.mean(bootstrap_samples, axis = 0)\n",
        "    quant = np.quantile(bootstrap_means, (0.1, 0.9))\n",
        "    LB = quant[0]\n",
        "    UB = quant[1]\n",
        "    if (LB <= 4) & (UB >= 4):\n",
        "        bpm += 1"
      ]
    },
    {
      "cell_type": "code",
      "execution_count": null,
      "metadata": {
        "id": "ft5yyckdo7tS",
        "outputId": "b7610a3d-c66b-4c31-e319-a15d69b41ff5",
        "colab": {
          "base_uri": "https://localhost:8080/"
        }
      },
      "outputs": [
        {
          "output_type": "execute_result",
          "data": {
            "text/plain": [
              "77.936"
            ]
          },
          "metadata": {},
          "execution_count": 29
        }
      ],
      "source": [
        "rbp_up / 1000"
      ]
    },
    {
      "cell_type": "code",
      "execution_count": null,
      "metadata": {
        "id": "5Y6XRQaxo7tT",
        "outputId": "b17c1e47-80a1-463a-915a-6ba46fb4c306",
        "colab": {
          "base_uri": "https://localhost:8080/"
        }
      },
      "outputs": [
        {
          "output_type": "execute_result",
          "data": {
            "text/plain": [
              "78.473"
            ]
          },
          "metadata": {},
          "execution_count": 30
        }
      ],
      "source": [
        "tb / 1000"
      ]
    },
    {
      "cell_type": "code",
      "execution_count": null,
      "metadata": {
        "id": "BBfjuV1Lo7tT",
        "outputId": "b0204e88-973b-48cb-ae6f-7515387355c9",
        "colab": {
          "base_uri": "https://localhost:8080/"
        }
      },
      "outputs": [
        {
          "output_type": "execute_result",
          "data": {
            "text/plain": [
              "77.963"
            ]
          },
          "metadata": {},
          "execution_count": 31
        }
      ],
      "source": [
        "bpm / 1000"
      ]
    },
    {
      "cell_type": "markdown",
      "metadata": {
        "id": "7AVbeQTpo7tT"
      },
      "source": [
        "---"
      ]
    },
    {
      "cell_type": "markdown",
      "metadata": {
        "id": "7vdFMRQ4o7tT"
      },
      "source": [
        "#### Параметрический Bootstrap."
      ]
    },
    {
      "cell_type": "markdown",
      "metadata": {
        "id": "o5VHojaAo7tT"
      },
      "source": [
        "Совпадает с reverse bootstrap percentile за исключением того, что bootstrap-выборка набирается из параметризованного распределения."
      ]
    },
    {
      "cell_type": "markdown",
      "metadata": {
        "id": "fgNNdKzTo7tT"
      },
      "source": [
        "**Пример 7:** предположим, что $X_1$, $\\ldots$, $X_{300}$ -- случайная выборка из экспоненциального exp$(\\lambda)$ распределения. Пусть оказалось так, что $\\bar{X} = 2$. Постройте 95%-ый доверительный интервал для $\\lambda$."
      ]
    },
    {
      "cell_type": "code",
      "execution_count": null,
      "metadata": {
        "id": "2AFm3knmo7tU",
        "outputId": "e3c4ef50-afd6-436d-eb65-312ce2ce6375",
        "colab": {
          "base_uri": "https://localhost:8080/"
        }
      },
      "outputs": [
        {
          "output_type": "stream",
          "name": "stdout",
          "text": [
            "[ 0.4379896541827353 ; 0.552132520316605 ]\n"
          ]
        }
      ],
      "source": [
        "## Шаг 1: Найдите точечную оценку неизвестного параметра\n",
        "lambda_hat = 1 / 2\n",
        "## Шаг 2: Сгенерируйте 1000 boostrap-выборок из X и сохраните их в матрицу n x 1000\n",
        "bootstrap_samples = np.random.exponential(1/lambda_hat, (300, 100000))\n",
        "# Шаг 3: Рассчитайте оценку lambda по каждой bootstrap-выборке\n",
        "lambda_star = 1 / np.mean(bootstrap_samples, axis = 0)\n",
        "# Шаг 4: Рассчитайте d*\n",
        "d_star = lambda_star - lambda_hat\n",
        "# Шаг 5: Найдите 0.025 и 0.975 квантили для d_star\n",
        "d_star_quant = np.quantile(d_star, (0.025, 0.975))\n",
        "# Шаг 6: Постройте 95%-ый доверительный интервал для lambda\n",
        "LB = lambda_hat - d_star_quant[1]\n",
        "UB = lambda_hat - d_star_quant[0]\n",
        "print('[', LB, ';', UB, ']')"
      ]
    },
    {
      "cell_type": "code",
      "source": [
        "## Шаг 1: Найдите точечную оценку неизвестного параметра\n",
        "lambda_hat = 1 / 2\n",
        "## Шаг 2: Сгенерируйте 1000 boostrap-выборок из X и сохраните их в матрицу n x 1000\n",
        "bootstrap_samples = np.random.exponential(1/lambda_hat, (300, 100000))\n",
        "# Шаг 3: Рассчитайте оценку lambda по каждой bootstrap-выборке\n",
        "lambda_star = 1 / np.mean(bootstrap_samples, axis = 0)\n",
        "# Шаг 4: Рассчитайте d*\n",
        "#d_star = lambda_star - lambda_hat\n",
        "# Шаг 5: Найдите 0.025 и 0.975 квантили для d_star\n",
        "d_star_quant = np.quantile(lambda_star, (0.025, 0.975))\n",
        "# Шаг 6: Постройте 95%-ый доверительный интервал для lambda\n",
        "LB = d_star_quant[0]\n",
        "UB = d_star_quant[1]\n",
        "print('[', LB, ';', UB, ']')"
      ],
      "metadata": {
        "colab": {
          "base_uri": "https://localhost:8080/"
        },
        "id": "xoHD4r5b8f1J",
        "outputId": "7c528aa4-ebe1-4f56-f53f-7026c3606f62"
      },
      "execution_count": null,
      "outputs": [
        {
          "output_type": "stream",
          "name": "stdout",
          "text": [
            "[ 0.4478392474110142 ; 0.5615486362525398 ]\n"
          ]
        }
      ]
    },
    {
      "cell_type": "markdown",
      "metadata": {
        "id": "qQuE3QuMo7tU"
      },
      "source": [
        "---"
      ]
    },
    {
      "cell_type": "markdown",
      "source": [
        "# Примеры практического применения"
      ],
      "metadata": {
        "id": "mAc6LcFQto8X"
      }
    },
    {
      "cell_type": "markdown",
      "source": [
        "Оценка статистик, для которых нет доверительных интервалов в явном виде (минимумы, максимумы, медианы...):\n",
        "0. Есть модель регрессии (Доходность проектов от заказчиков) - к нам пришёл Газпром, но у нас градиентный бустинг (не может предсказать то, что не видела никогда). \n",
        "1. Вы мониторите фичи модели, в которую на прод ежедневно поступают новые сэмплы для скоринга, хочется понимать, насколько адекватные значения прилетают\n",
        "2. Как оценить доверительный интервал, чтобы понять, в каких случаях следует сигналить о превышении приходящими фичами критических значений?\n",
        "3. Бутстрапируем! Берём подвыборки из обучающей выборки размерности, равной средней ежедневной\n",
        "\n",
        "\n",
        "$N = 10^6$ сэмплов\n",
        "\n",
        "$n^* = 1000$ сэмплов\n",
        "\n",
        "$n_{iter} = 10000$ итераций\n",
        "\n",
        "Считаем на подвыборках размерности $n^*$ максимумы и у нас получилось 10000 разных максимумов, которые как-то распределены. Мы оцениваем доверительный интервал, при котором не выводим сигнал начальству о критической ошибки, к которым не готова модель машинного обучения. \n",
        "\n",
        "За счёт бутстрапа можем с вероятностью 99% заверять начальство в том, что максимальный возраст подающих заявки клиентов в диапазоне [60, 75]. \n",
        "\n"
      ],
      "metadata": {
        "id": "vMU5ygOatvfn"
      }
    },
    {
      "cell_type": "markdown",
      "metadata": {
        "id": "Pk8WK9flo7tU"
      },
      "source": [
        "#### Источники мудрости:\n",
        "[1] [Tim Hesterberg \"What Teachers Should Know about the Bootstrap:Resampling in the Undergraduate StatisticsCurriculum?\"](https://arxiv.org/pdf/1411.5279.pdf)\n",
        "\n",
        "[2] [Jeremy Orloff, Jonathan Bloom \"Bootstrap Confidence Intervals\"](https://ocw.mit.edu/courses/mathematics/18-05-introduction-to-probability-and-statistics-spring-2014/readings/MIT18_05S14_Reading24.pdf)\n",
        "\n",
        "[3] [Английская википедия](https://en.wikipedia.org/wiki/Bootstrapping_(statistics))"
      ]
    }
  ],
  "metadata": {
    "kernelspec": {
      "display_name": "Python 3",
      "language": "python",
      "name": "python3"
    },
    "language_info": {
      "codemirror_mode": {
        "name": "ipython",
        "version": 3
      },
      "file_extension": ".py",
      "mimetype": "text/x-python",
      "name": "python",
      "nbconvert_exporter": "python",
      "pygments_lexer": "ipython3",
      "version": "3.8.3"
    },
    "colab": {
      "provenance": []
    }
  },
  "nbformat": 4,
  "nbformat_minor": 0
}