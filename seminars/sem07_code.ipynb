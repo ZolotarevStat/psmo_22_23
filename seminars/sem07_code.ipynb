{
  "cells": [
    {
      "cell_type": "markdown",
      "id": "shaped-accuracy",
      "metadata": {
        "id": "shaped-accuracy"
      },
      "source": [
        "# Прикладная статистика в машинном обучении 2021-2022"
      ]
    },
    {
      "cell_type": "markdown",
      "id": "external-utilization",
      "metadata": {
        "id": "external-utilization"
      },
      "source": [
        "## Домашнее задание #1\n",
        "\n",
        "## Часть 2"
      ]
    },
    {
      "cell_type": "markdown",
      "id": "expensive-present",
      "metadata": {
        "id": "expensive-present"
      },
      "source": [
        "---"
      ]
    },
    {
      "cell_type": "code",
      "execution_count": null,
      "id": "0e4b3ec5",
      "metadata": {
        "ExecuteTime": {
          "end_time": "2021-11-19T19:46:34.924769Z",
          "start_time": "2021-11-19T19:46:33.965077Z"
        },
        "id": "0e4b3ec5"
      },
      "outputs": [],
      "source": [
        "import pandas as pd\n",
        "pd.set_option('display.float_format', lambda x: '%.6f' % x)\n",
        "\n",
        "import numpy as np\n",
        "import matplotlib.pyplot as plt\n",
        "import seaborn as sns"
      ]
    },
    {
      "cell_type": "markdown",
      "id": "perceived-silicon",
      "metadata": {
        "id": "perceived-silicon"
      },
      "source": [
        "#### Задача 14. Divide et impera!\n",
        "\n",
        "Файле `14.csv` содержит данные, которые являются смесью гауссиан. \n",
        "\n",
        "**[a]** Постройте гистограмму выборки. Изучите гистограмму и сделайте предположения о количестве гауссиан, а также задайте разумный вектор начальных параметров $\\theta$.\n",
        "\n",
        "**[б]** **(3 балла)** Реализуйте EM-алгоритм для нахождения оценки $\\hat{\\theta}$. Итоговые формулы представьте только в виде кода (то есть не требуется отдельно прикладывать или техать вывод формул).\n",
        "\n",
        "**[в]** Постройте график $Q$ в зависимости от числа итераций.\n",
        "\n",
        "**[г]** Являются ли полученные оценки параметров адекватными (адекватность оцените визуально по гистограмме). Если нет, приведите возможную причину провала EM-алгоритма. "
      ]
    },
    {
      "cell_type": "code",
      "execution_count": null,
      "id": "c450a267",
      "metadata": {
        "ExecuteTime": {
          "end_time": "2021-11-19T19:46:37.911532Z",
          "start_time": "2021-11-19T19:46:37.896455Z"
        },
        "id": "c450a267",
        "outputId": "1e3250da-f5fc-4d55-9aa0-8c28f4eacba4",
        "colab": {
          "base_uri": "https://localhost:8080/",
          "height": 424
        }
      },
      "outputs": [
        {
          "output_type": "execute_result",
          "data": {
            "text/plain": [
              "              X\n",
              "0     25.000141\n",
              "1      2.996731\n",
              "2     -0.673019\n",
              "3      2.998876\n",
              "4     25.000178\n",
              "...         ...\n",
              "13995  3.954072\n",
              "13996  3.002716\n",
              "13997  6.085865\n",
              "13998  2.983889\n",
              "13999 25.001072\n",
              "\n",
              "[14000 rows x 1 columns]"
            ],
            "text/html": [
              "\n",
              "  <div id=\"df-6a81f58f-6dbc-43ee-8530-80d2730692bc\">\n",
              "    <div class=\"colab-df-container\">\n",
              "      <div>\n",
              "<style scoped>\n",
              "    .dataframe tbody tr th:only-of-type {\n",
              "        vertical-align: middle;\n",
              "    }\n",
              "\n",
              "    .dataframe tbody tr th {\n",
              "        vertical-align: top;\n",
              "    }\n",
              "\n",
              "    .dataframe thead th {\n",
              "        text-align: right;\n",
              "    }\n",
              "</style>\n",
              "<table border=\"1\" class=\"dataframe\">\n",
              "  <thead>\n",
              "    <tr style=\"text-align: right;\">\n",
              "      <th></th>\n",
              "      <th>X</th>\n",
              "    </tr>\n",
              "  </thead>\n",
              "  <tbody>\n",
              "    <tr>\n",
              "      <th>0</th>\n",
              "      <td>25.000141</td>\n",
              "    </tr>\n",
              "    <tr>\n",
              "      <th>1</th>\n",
              "      <td>2.996731</td>\n",
              "    </tr>\n",
              "    <tr>\n",
              "      <th>2</th>\n",
              "      <td>-0.673019</td>\n",
              "    </tr>\n",
              "    <tr>\n",
              "      <th>3</th>\n",
              "      <td>2.998876</td>\n",
              "    </tr>\n",
              "    <tr>\n",
              "      <th>4</th>\n",
              "      <td>25.000178</td>\n",
              "    </tr>\n",
              "    <tr>\n",
              "      <th>...</th>\n",
              "      <td>...</td>\n",
              "    </tr>\n",
              "    <tr>\n",
              "      <th>13995</th>\n",
              "      <td>3.954072</td>\n",
              "    </tr>\n",
              "    <tr>\n",
              "      <th>13996</th>\n",
              "      <td>3.002716</td>\n",
              "    </tr>\n",
              "    <tr>\n",
              "      <th>13997</th>\n",
              "      <td>6.085865</td>\n",
              "    </tr>\n",
              "    <tr>\n",
              "      <th>13998</th>\n",
              "      <td>2.983889</td>\n",
              "    </tr>\n",
              "    <tr>\n",
              "      <th>13999</th>\n",
              "      <td>25.001072</td>\n",
              "    </tr>\n",
              "  </tbody>\n",
              "</table>\n",
              "<p>14000 rows × 1 columns</p>\n",
              "</div>\n",
              "      <button class=\"colab-df-convert\" onclick=\"convertToInteractive('df-6a81f58f-6dbc-43ee-8530-80d2730692bc')\"\n",
              "              title=\"Convert this dataframe to an interactive table.\"\n",
              "              style=\"display:none;\">\n",
              "        \n",
              "  <svg xmlns=\"http://www.w3.org/2000/svg\" height=\"24px\"viewBox=\"0 0 24 24\"\n",
              "       width=\"24px\">\n",
              "    <path d=\"M0 0h24v24H0V0z\" fill=\"none\"/>\n",
              "    <path d=\"M18.56 5.44l.94 2.06.94-2.06 2.06-.94-2.06-.94-.94-2.06-.94 2.06-2.06.94zm-11 1L8.5 8.5l.94-2.06 2.06-.94-2.06-.94L8.5 2.5l-.94 2.06-2.06.94zm10 10l.94 2.06.94-2.06 2.06-.94-2.06-.94-.94-2.06-.94 2.06-2.06.94z\"/><path d=\"M17.41 7.96l-1.37-1.37c-.4-.4-.92-.59-1.43-.59-.52 0-1.04.2-1.43.59L10.3 9.45l-7.72 7.72c-.78.78-.78 2.05 0 2.83L4 21.41c.39.39.9.59 1.41.59.51 0 1.02-.2 1.41-.59l7.78-7.78 2.81-2.81c.8-.78.8-2.07 0-2.86zM5.41 20L4 18.59l7.72-7.72 1.47 1.35L5.41 20z\"/>\n",
              "  </svg>\n",
              "      </button>\n",
              "      \n",
              "  <style>\n",
              "    .colab-df-container {\n",
              "      display:flex;\n",
              "      flex-wrap:wrap;\n",
              "      gap: 12px;\n",
              "    }\n",
              "\n",
              "    .colab-df-convert {\n",
              "      background-color: #E8F0FE;\n",
              "      border: none;\n",
              "      border-radius: 50%;\n",
              "      cursor: pointer;\n",
              "      display: none;\n",
              "      fill: #1967D2;\n",
              "      height: 32px;\n",
              "      padding: 0 0 0 0;\n",
              "      width: 32px;\n",
              "    }\n",
              "\n",
              "    .colab-df-convert:hover {\n",
              "      background-color: #E2EBFA;\n",
              "      box-shadow: 0px 1px 2px rgba(60, 64, 67, 0.3), 0px 1px 3px 1px rgba(60, 64, 67, 0.15);\n",
              "      fill: #174EA6;\n",
              "    }\n",
              "\n",
              "    [theme=dark] .colab-df-convert {\n",
              "      background-color: #3B4455;\n",
              "      fill: #D2E3FC;\n",
              "    }\n",
              "\n",
              "    [theme=dark] .colab-df-convert:hover {\n",
              "      background-color: #434B5C;\n",
              "      box-shadow: 0px 1px 3px 1px rgba(0, 0, 0, 0.15);\n",
              "      filter: drop-shadow(0px 1px 2px rgba(0, 0, 0, 0.3));\n",
              "      fill: #FFFFFF;\n",
              "    }\n",
              "  </style>\n",
              "\n",
              "      <script>\n",
              "        const buttonEl =\n",
              "          document.querySelector('#df-6a81f58f-6dbc-43ee-8530-80d2730692bc button.colab-df-convert');\n",
              "        buttonEl.style.display =\n",
              "          google.colab.kernel.accessAllowed ? 'block' : 'none';\n",
              "\n",
              "        async function convertToInteractive(key) {\n",
              "          const element = document.querySelector('#df-6a81f58f-6dbc-43ee-8530-80d2730692bc');\n",
              "          const dataTable =\n",
              "            await google.colab.kernel.invokeFunction('convertToInteractive',\n",
              "                                                     [key], {});\n",
              "          if (!dataTable) return;\n",
              "\n",
              "          const docLinkHtml = 'Like what you see? Visit the ' +\n",
              "            '<a target=\"_blank\" href=https://colab.research.google.com/notebooks/data_table.ipynb>data table notebook</a>'\n",
              "            + ' to learn more about interactive tables.';\n",
              "          element.innerHTML = '';\n",
              "          dataTable['output_type'] = 'display_data';\n",
              "          await google.colab.output.renderOutput(dataTable, element);\n",
              "          const docLink = document.createElement('div');\n",
              "          docLink.innerHTML = docLinkHtml;\n",
              "          element.appendChild(docLink);\n",
              "        }\n",
              "      </script>\n",
              "    </div>\n",
              "  </div>\n",
              "  "
            ]
          },
          "metadata": {},
          "execution_count": 2
        }
      ],
      "source": [
        "import requests\n",
        "url = 'https://raw.githubusercontent.com/V-Marco/psmo_21_22/main/hw/hw1/14.csv'\n",
        "res = requests.get(url, allow_redirects=True)\n",
        "with open('14.csv','wb') as file:\n",
        "    file.write(res.content)\n",
        "df14 = pd.read_csv('14.csv', usecols=[1])\n",
        "df14"
      ]
    },
    {
      "cell_type": "markdown",
      "id": "8db6450c",
      "metadata": {
        "id": "8db6450c"
      },
      "source": [
        "##### (а) Постройте гистограмму выборки. Изучите гистограмму и сделайте предположения о количестве гауссиан, а также задайте разумный вектор начальных параметров $\\theta$."
      ]
    },
    {
      "cell_type": "code",
      "execution_count": null,
      "id": "b1e801de",
      "metadata": {
        "ExecuteTime": {
          "end_time": "2021-11-19T19:46:45.281457Z",
          "start_time": "2021-11-19T19:46:45.272455Z"
        },
        "id": "b1e801de",
        "outputId": "3f852107-6d19-480c-a30f-4309f417dd86",
        "colab": {
          "base_uri": "https://localhost:8080/"
        }
      },
      "outputs": [
        {
          "output_type": "execute_result",
          "data": {
            "text/plain": [
              "count   14000.000000\n",
              "mean       11.850371\n",
              "std        10.594174\n",
              "min        -1.900689\n",
              "25%         2.997009\n",
              "50%         5.371589\n",
              "75%        24.999488\n",
              "max        26.935204\n",
              "Name: X, dtype: float64"
            ]
          },
          "metadata": {},
          "execution_count": 3
        }
      ],
      "source": [
        "df14.X.describe()"
      ]
    },
    {
      "cell_type": "code",
      "execution_count": null,
      "id": "68cff92f",
      "metadata": {
        "ExecuteTime": {
          "end_time": "2021-11-19T19:46:47.363518Z",
          "start_time": "2021-11-19T19:46:46.081576Z"
        },
        "id": "68cff92f",
        "outputId": "f7c93a04-0b09-4355-c46f-36e0d491b9fd",
        "colab": {
          "base_uri": "https://localhost:8080/",
          "height": 624
        }
      },
      "outputs": [
        {
          "output_type": "display_data",
          "data": {
            "text/plain": [
              "<Figure size 1296x720 with 1 Axes>"
            ],
            "image/png": "[encoded data removed]"
          },
          "metadata": {
            "needs_background": "light"
          }
        }
      ],
      "source": [
        "plt.figure(figsize=(18, 10))\n",
        "plt.hist(df14.X, bins=500)\n",
        "plt.xticks(np.arange(-2, 27, 0.5), rotation=45)\n",
        "plt.xlabel(\"Значение Х\")\n",
        "plt.ylabel(\"Частота встречаемости Х\")\n",
        "plt.ylim(0, 100)\n",
        "plt.show()"
      ]
    },
    {
      "cell_type": "markdown",
      "id": "ff912a0c",
      "metadata": {
        "id": "ff912a0c"
      },
      "source": [
        "На приведённом графике отчётливо видно, что выборка состоит из 4 полноценных гауссиан с увеличивающейся по мере увеличения мат ожидания дисперсией. Однако также отчётливо видно два вырожденных распределения, для которых, вероятно, также нужно выделить 2 гауссианы с около-нулевой дисперсией.\n",
        "\n",
        "$$X_1 \\sim N(0, sigma), -2<X<2$$\n",
        "$$X_2 \\sim N(4, sigma*1.5), 2<X<5.5$$\n",
        "$$X_3 \\sim N(3, sigma*0.2), 2.9<X<3.1$$\n",
        "$$X_4 \\sim N(8, sigma*2), 5.5<X<10$$\n",
        "$$X_5 \\sim N(17, sigma*4), 10<X<27$$\n",
        "$$X_6 \\sim N(25, sigma*0.1), 24.8<X<25.2$$"
      ]
    },
    {
      "cell_type": "markdown",
      "id": "85f239da",
      "metadata": {
        "id": "85f239da"
      },
      "source": [
        "Зададим следующий вектор начальных параметров:"
      ]
    },
    {
      "cell_type": "code",
      "execution_count": null,
      "id": "6f602947",
      "metadata": {
        "ExecuteTime": {
          "end_time": "2021-11-19T19:46:51.476053Z",
          "start_time": "2021-11-19T19:46:51.432479Z"
        },
        "id": "6f602947"
      },
      "outputs": [],
      "source": [
        "sigma2_1 = df14.X.loc[df14.X<2].var()\n",
        "p_1 = len(df14.X.loc[df14.X<2])/len(df14)*0.7\n",
        "sigma2_2 = df14.X.loc[(df14.X>2) & (df14.X<6)].var()\n",
        "p_2 = len(df14.X.loc[(df14.X>2) & (df14.X<6)])/len(df14)*0.7\n",
        "sigma2_3 = df14.X.loc[(df14.X>2.9) & (df14.X<3.1)].var()\n",
        "p_3 = len(df14.X.loc[(df14.X>2.9) & (df14.X<3.1)])/len(df14)*0.7\n",
        "sigma2_4 = df14.X.loc[(df14.X>5) & (df14.X<10)].var()\n",
        "p_4 = len(df14.X.loc[(df14.X>5) & (df14.X<10)])/len(df14)*0.7\n",
        "sigma2_5 = df14.X.loc[(df14.X>9) & (df14.X<27)].var()\n",
        "p_5 = len(df14.X.loc[(df14.X>9) & (df14.X<27)])/len(df14)*0.7\n",
        "sigma2_6 = df14.X.loc[(df14.X>24.8) & (df14.X<25.2)].var()\n",
        "p_6 = 1-p_1-p_2-p_3-p_4-p_5"
      ]
    },
    {
      "cell_type": "code",
      "execution_count": null,
      "id": "7b424e09",
      "metadata": {
        "ExecuteTime": {
          "end_time": "2021-11-19T19:46:52.230587Z",
          "start_time": "2021-11-19T19:46:52.217579Z"
        },
        "id": "7b424e09",
        "outputId": "caecf5b8-89ce-4fdf-976d-ed82b177685a",
        "colab": {
          "base_uri": "https://localhost:8080/"
        }
      },
      "outputs": [
        {
          "output_type": "stream",
          "name": "stdout",
          "text": [
            "18\n"
          ]
        },
        {
          "output_type": "execute_result",
          "data": {
            "text/plain": [
              "array([0.00000000e+00, 2.39871971e-01, 1.42842226e-01, 4.00000000e+00,\n",
              "       2.52804116e-01, 7.24542763e-02, 3.00000000e+00, 9.79035520e-05,\n",
              "       2.84629402e-01, 8.00000000e+00, 5.93996382e-01, 6.25285509e-02,\n",
              "       1.70000000e+01, 1.52939039e+01, 8.04902599e-02, 2.50000000e+01,\n",
              "       1.01464637e-06, 3.57055284e-01])"
            ]
          },
          "metadata": {},
          "execution_count": 49
        }
      ],
      "source": [
        "# theta = (mu_1, sigma2_1, p_1, \n",
        "#          mu2, sigma2_2, p_2,\n",
        "#          mu_3, sigma2_3, p_3,\n",
        "#          mu_4, sigma2_4, p_4, \n",
        "#          mu_5, sigma2_5)\n",
        "# (воспользовались эвристикой)\n",
        "theta = np.array([0, sigma2_1, p_1,\n",
        "                 4, sigma2_2, p_2,\n",
        "                 3, sigma2_3, p_3,\n",
        "                 8, sigma2_4, p_4,\n",
        "                 17, sigma2_5, p_5,\n",
        "                 25, sigma2_6, p_6])\n",
        "print(len(theta))\n",
        "theta"
      ]
    },
    {
      "cell_type": "markdown",
      "id": "195c0963",
      "metadata": {
        "id": "195c0963"
      },
      "source": [
        "##### (б) Реализуйте EM-алгоритм для нахождения оценки $\\hat{\\theta}$. Итоговые формулы представьте только в виде кода (то есть не требуется отдельно прикладывать или техать вывод формул)."
      ]
    },
    {
      "cell_type": "code",
      "execution_count": null,
      "id": "76cf6af2",
      "metadata": {
        "ExecuteTime": {
          "end_time": "2021-11-19T19:46:56.095613Z",
          "start_time": "2021-11-19T19:46:56.084570Z"
        },
        "id": "76cf6af2"
      },
      "outputs": [],
      "source": [
        "# Задайте плотность x\n",
        "def f(x, mu, sigma2):\n",
        "    return 1 / np.sqrt(2 * np.pi * sigma2) * np.exp(-1/2 * 1/sigma2 * (x - mu)**2)\n",
        "\n",
        "x = df14.X"
      ]
    },
    {
      "cell_type": "code",
      "source": [
        "p_z_1 = f(x, mu = theta[0], sigma2 = theta[1]) * theta[2] / \\\n",
        "              (theta[2] * f(x, mu = theta[0], sigma2 = theta[1]) + \\\n",
        "              (theta[5]) * f(x, mu = theta[3], sigma2 = theta[4]) + \\\n",
        "              (theta[8]) * f(x, mu = theta[6], sigma2 = theta[7]) + \\\n",
        "              (theta[11]) * f(x, mu = theta[9], sigma2 = theta[10]) + \\\n",
        "              (theta[14]) * f(x, mu = theta[12], sigma2 = theta[13]) + \\\n",
        "              (theta[17]) * f(x, mu = theta[15], sigma2 = theta[16]))\n",
        "\n",
        "p_z_2 = (theta[5]) * f(x, mu = theta[3], sigma2 = theta[4]) / \\\n",
        "            (theta[2] * f(x, mu = theta[0], sigma2 = theta[1]) + \\\n",
        "            (theta[5]) * f(x, mu = theta[3], sigma2 = theta[4]) + \\\n",
        "            (theta[8]) * f(x, mu = theta[6], sigma2 = theta[7]) + \\\n",
        "            (theta[11]) * f(x, mu = theta[9], sigma2 = theta[10]) + \\\n",
        "            (theta[14]) * f(x, mu = theta[12], sigma2 = theta[13]) + \\\n",
        "            (theta[17]) * f(x, mu = theta[15], sigma2 = theta[16]))\n",
        "\n",
        "p_z_3 = (theta[8]) * f(x, mu = theta[6], sigma2 = theta[7])/ \\\n",
        "            (theta[2] * f(x, mu = theta[0], sigma2 = theta[1]) + \\\n",
        "            (theta[5]) * f(x, mu = theta[3], sigma2 = theta[4]) + \\\n",
        "            (theta[8]) * f(x, mu = theta[6], sigma2 = theta[7]) + \\\n",
        "            (theta[11]) * f(x, mu = theta[9], sigma2 = theta[10]) + \\\n",
        "            (theta[14]) * f(x, mu = theta[12], sigma2 = theta[13]) + \\\n",
        "            (theta[17]) * f(x, mu = theta[15], sigma2 = theta[16]))\n",
        "\n",
        "p_z_4 = (theta[11]) * f(x, mu = theta[9], sigma2 = theta[10]) / \\\n",
        "            (theta[2] * f(x, mu = theta[0], sigma2 = theta[1]) + \\\n",
        "            (theta[5]) * f(x, mu = theta[3], sigma2 = theta[4]) + \\\n",
        "            (theta[8]) * f(x, mu = theta[6], sigma2 = theta[7]) + \\\n",
        "            (theta[11]) * f(x, mu = theta[9], sigma2 = theta[10]) + \\\n",
        "            (theta[14]) * f(x, mu = theta[12], sigma2 = theta[13]) + \\\n",
        "            (theta[17]) * f(x, mu = theta[15], sigma2 = theta[16]))\n",
        "\n",
        "p_z_5 = (theta[14]) * f(x, mu = theta[12], sigma2 = theta[13]) / \\\n",
        "            (theta[2] * f(x, mu = theta[0], sigma2 = theta[1]) + \\\n",
        "            (theta[5]) * f(x, mu = theta[3], sigma2 = theta[4]) + \\\n",
        "            (theta[8]) * f(x, mu = theta[6], sigma2 = theta[7]) + \\\n",
        "            (theta[11]) * f(x, mu = theta[9], sigma2 = theta[10]) + \\\n",
        "            (theta[14]) * f(x, mu = theta[12], sigma2 = theta[13]) + \\\n",
        "            (theta[17]) * f(x, mu = theta[15], sigma2 = theta[16]))\n",
        "\n",
        "p_z_6 = (theta[17]) * f(x, mu = theta[15], sigma2 = theta[16]) / \\\n",
        "            (theta[2] * f(x, mu = theta[0], sigma2 = theta[1]) + \\\n",
        "            (theta[5]) * f(x, mu = theta[3], sigma2 = theta[4]) + \\\n",
        "            (theta[8]) * f(x, mu = theta[6], sigma2 = theta[7]) + \\\n",
        "            (theta[11]) * f(x, mu = theta[9], sigma2 = theta[10]) + \\\n",
        "            (theta[14]) * f(x, mu = theta[12], sigma2 = theta[13]) + \\\n",
        "            (theta[17]) * f(x, mu = theta[15], sigma2 = theta[16]))"
      ],
      "metadata": {
        "id": "erD894gmsOnO"
      },
      "id": "erD894gmsOnO",
      "execution_count": null,
      "outputs": []
    },
    {
      "cell_type": "code",
      "execution_count": null,
      "id": "6f6e6c25",
      "metadata": {
        "ExecuteTime": {
          "end_time": "2021-11-19T19:46:57.889715Z",
          "start_time": "2021-11-19T19:46:57.724226Z"
        },
        "id": "6f6e6c25",
        "outputId": "42b447e7-b803-47a0-aedd-a8087c4883b1",
        "colab": {
          "base_uri": "https://localhost:8080/",
          "height": 424
        }
      },
      "outputs": [
        {
          "output_type": "execute_result",
          "data": {
            "text/plain": [
              "              X       z1       z2       z3       z4       z5       z6\n",
              "0     25.000141 0.000000 0.000000 0.000000 0.000000 0.000223 0.999777\n",
              "1      2.996731 0.000000 0.002934 0.997062 0.000000 0.000004 0.000000\n",
              "2     -0.673019 0.999983 0.000000 0.000000 0.000000 0.000017 0.000000\n",
              "3      2.998876 0.000000 0.002843 0.997153 0.000000 0.000004 0.000000\n",
              "4     25.000178 0.000000 0.000000 0.000000 0.000000 0.000223 0.999777\n",
              "...         ...      ...      ...      ...      ...      ...      ...\n",
              "13995  3.954072 0.000000 0.999619 0.000000 0.000005 0.000377 0.000000\n",
              "13996  3.002716 0.000000 0.002972 0.997024 0.000000 0.000004 0.000000\n",
              "13997  6.085865 0.000000 0.003355 0.000000 0.828018 0.168627 0.000000\n",
              "13998  2.983889 0.000000 0.008247 0.991739 0.000000 0.000013 0.000000\n",
              "13999 25.001072 0.000000 0.000000 0.000000 0.000000 0.000246 0.999754\n",
              "\n",
              "[14000 rows x 7 columns]"
            ],
            "text/html": [
              "\n",
              "  <div id=\"df-5c38483b-ea63-44ec-af2a-7e8e9bb44029\">\n",
              "    <div class=\"colab-df-container\">\n",
              "      <div>\n",
              "<style scoped>\n",
              "    .dataframe tbody tr th:only-of-type {\n",
              "        vertical-align: middle;\n",
              "    }\n",
              "\n",
              "    .dataframe tbody tr th {\n",
              "        vertical-align: top;\n",
              "    }\n",
              "\n",
              "    .dataframe thead th {\n",
              "        text-align: right;\n",
              "    }\n",
              "</style>\n",
              "<table border=\"1\" class=\"dataframe\">\n",
              "  <thead>\n",
              "    <tr style=\"text-align: right;\">\n",
              "      <th></th>\n",
              "      <th>X</th>\n",
              "      <th>z1</th>\n",
              "      <th>z2</th>\n",
              "      <th>z3</th>\n",
              "      <th>z4</th>\n",
              "      <th>z5</th>\n",
              "      <th>z6</th>\n",
              "    </tr>\n",
              "  </thead>\n",
              "  <tbody>\n",
              "    <tr>\n",
              "      <th>0</th>\n",
              "      <td>25.000141</td>\n",
              "      <td>0.000000</td>\n",
              "      <td>0.000000</td>\n",
              "      <td>0.000000</td>\n",
              "      <td>0.000000</td>\n",
              "      <td>0.000223</td>\n",
              "      <td>0.999777</td>\n",
              "    </tr>\n",
              "    <tr>\n",
              "      <th>1</th>\n",
              "      <td>2.996731</td>\n",
              "      <td>0.000000</td>\n",
              "      <td>0.002934</td>\n",
              "      <td>0.997062</td>\n",
              "      <td>0.000000</td>\n",
              "      <td>0.000004</td>\n",
              "      <td>0.000000</td>\n",
              "    </tr>\n",
              "    <tr>\n",
              "      <th>2</th>\n",
              "      <td>-0.673019</td>\n",
              "      <td>0.999983</td>\n",
              "      <td>0.000000</td>\n",
              "      <td>0.000000</td>\n",
              "      <td>0.000000</td>\n",
              "      <td>0.000017</td>\n",
              "      <td>0.000000</td>\n",
              "    </tr>\n",
              "    <tr>\n",
              "      <th>3</th>\n",
              "      <td>2.998876</td>\n",
              "      <td>0.000000</td>\n",
              "      <td>0.002843</td>\n",
              "      <td>0.997153</td>\n",
              "      <td>0.000000</td>\n",
              "      <td>0.000004</td>\n",
              "      <td>0.000000</td>\n",
              "    </tr>\n",
              "    <tr>\n",
              "      <th>4</th>\n",
              "      <td>25.000178</td>\n",
              "      <td>0.000000</td>\n",
              "      <td>0.000000</td>\n",
              "      <td>0.000000</td>\n",
              "      <td>0.000000</td>\n",
              "      <td>0.000223</td>\n",
              "      <td>0.999777</td>\n",
              "    </tr>\n",
              "    <tr>\n",
              "      <th>...</th>\n",
              "      <td>...</td>\n",
              "      <td>...</td>\n",
              "      <td>...</td>\n",
              "      <td>...</td>\n",
              "      <td>...</td>\n",
              "      <td>...</td>\n",
              "      <td>...</td>\n",
              "    </tr>\n",
              "    <tr>\n",
              "      <th>13995</th>\n",
              "      <td>3.954072</td>\n",
              "      <td>0.000000</td>\n",
              "      <td>0.999619</td>\n",
              "      <td>0.000000</td>\n",
              "      <td>0.000005</td>\n",
              "      <td>0.000377</td>\n",
              "      <td>0.000000</td>\n",
              "    </tr>\n",
              "    <tr>\n",
              "      <th>13996</th>\n",
              "      <td>3.002716</td>\n",
              "      <td>0.000000</td>\n",
              "      <td>0.002972</td>\n",
              "      <td>0.997024</td>\n",
              "      <td>0.000000</td>\n",
              "      <td>0.000004</td>\n",
              "      <td>0.000000</td>\n",
              "    </tr>\n",
              "    <tr>\n",
              "      <th>13997</th>\n",
              "      <td>6.085865</td>\n",
              "      <td>0.000000</td>\n",
              "      <td>0.003355</td>\n",
              "      <td>0.000000</td>\n",
              "      <td>0.828018</td>\n",
              "      <td>0.168627</td>\n",
              "      <td>0.000000</td>\n",
              "    </tr>\n",
              "    <tr>\n",
              "      <th>13998</th>\n",
              "      <td>2.983889</td>\n",
              "      <td>0.000000</td>\n",
              "      <td>0.008247</td>\n",
              "      <td>0.991739</td>\n",
              "      <td>0.000000</td>\n",
              "      <td>0.000013</td>\n",
              "      <td>0.000000</td>\n",
              "    </tr>\n",
              "    <tr>\n",
              "      <th>13999</th>\n",
              "      <td>25.001072</td>\n",
              "      <td>0.000000</td>\n",
              "      <td>0.000000</td>\n",
              "      <td>0.000000</td>\n",
              "      <td>0.000000</td>\n",
              "      <td>0.000246</td>\n",
              "      <td>0.999754</td>\n",
              "    </tr>\n",
              "  </tbody>\n",
              "</table>\n",
              "<p>14000 rows × 7 columns</p>\n",
              "</div>\n",
              "      <button class=\"colab-df-convert\" onclick=\"convertToInteractive('df-5c38483b-ea63-44ec-af2a-7e8e9bb44029')\"\n",
              "              title=\"Convert this dataframe to an interactive table.\"\n",
              "              style=\"display:none;\">\n",
              "        \n",
              "  <svg xmlns=\"http://www.w3.org/2000/svg\" height=\"24px\"viewBox=\"0 0 24 24\"\n",
              "       width=\"24px\">\n",
              "    <path d=\"M0 0h24v24H0V0z\" fill=\"none\"/>\n",
              "    <path d=\"M18.56 5.44l.94 2.06.94-2.06 2.06-.94-2.06-.94-.94-2.06-.94 2.06-2.06.94zm-11 1L8.5 8.5l.94-2.06 2.06-.94-2.06-.94L8.5 2.5l-.94 2.06-2.06.94zm10 10l.94 2.06.94-2.06 2.06-.94-2.06-.94-.94-2.06-.94 2.06-2.06.94z\"/><path d=\"M17.41 7.96l-1.37-1.37c-.4-.4-.92-.59-1.43-.59-.52 0-1.04.2-1.43.59L10.3 9.45l-7.72 7.72c-.78.78-.78 2.05 0 2.83L4 21.41c.39.39.9.59 1.41.59.51 0 1.02-.2 1.41-.59l7.78-7.78 2.81-2.81c.8-.78.8-2.07 0-2.86zM5.41 20L4 18.59l7.72-7.72 1.47 1.35L5.41 20z\"/>\n",
              "  </svg>\n",
              "      </button>\n",
              "      \n",
              "  <style>\n",
              "    .colab-df-container {\n",
              "      display:flex;\n",
              "      flex-wrap:wrap;\n",
              "      gap: 12px;\n",
              "    }\n",
              "\n",
              "    .colab-df-convert {\n",
              "      background-color: #E8F0FE;\n",
              "      border: none;\n",
              "      border-radius: 50%;\n",
              "      cursor: pointer;\n",
              "      display: none;\n",
              "      fill: #1967D2;\n",
              "      height: 32px;\n",
              "      padding: 0 0 0 0;\n",
              "      width: 32px;\n",
              "    }\n",
              "\n",
              "    .colab-df-convert:hover {\n",
              "      background-color: #E2EBFA;\n",
              "      box-shadow: 0px 1px 2px rgba(60, 64, 67, 0.3), 0px 1px 3px 1px rgba(60, 64, 67, 0.15);\n",
              "      fill: #174EA6;\n",
              "    }\n",
              "\n",
              "    [theme=dark] .colab-df-convert {\n",
              "      background-color: #3B4455;\n",
              "      fill: #D2E3FC;\n",
              "    }\n",
              "\n",
              "    [theme=dark] .colab-df-convert:hover {\n",
              "      background-color: #434B5C;\n",
              "      box-shadow: 0px 1px 3px 1px rgba(0, 0, 0, 0.15);\n",
              "      filter: drop-shadow(0px 1px 2px rgba(0, 0, 0, 0.3));\n",
              "      fill: #FFFFFF;\n",
              "    }\n",
              "  </style>\n",
              "\n",
              "      <script>\n",
              "        const buttonEl =\n",
              "          document.querySelector('#df-5c38483b-ea63-44ec-af2a-7e8e9bb44029 button.colab-df-convert');\n",
              "        buttonEl.style.display =\n",
              "          google.colab.kernel.accessAllowed ? 'block' : 'none';\n",
              "\n",
              "        async function convertToInteractive(key) {\n",
              "          const element = document.querySelector('#df-5c38483b-ea63-44ec-af2a-7e8e9bb44029');\n",
              "          const dataTable =\n",
              "            await google.colab.kernel.invokeFunction('convertToInteractive',\n",
              "                                                     [key], {});\n",
              "          if (!dataTable) return;\n",
              "\n",
              "          const docLinkHtml = 'Like what you see? Visit the ' +\n",
              "            '<a target=\"_blank\" href=https://colab.research.google.com/notebooks/data_table.ipynb>data table notebook</a>'\n",
              "            + ' to learn more about interactive tables.';\n",
              "          element.innerHTML = '';\n",
              "          dataTable['output_type'] = 'display_data';\n",
              "          await google.colab.output.renderOutput(dataTable, element);\n",
              "          const docLink = document.createElement('div');\n",
              "          docLink.innerHTML = docLinkHtml;\n",
              "          element.appendChild(docLink);\n",
              "        }\n",
              "      </script>\n",
              "    </div>\n",
              "  </div>\n",
              "  "
            ]
          },
          "metadata": {},
          "execution_count": 9
        }
      ],
      "source": [
        "# Рассчитайте распределение латентных переменных на наших данных\n",
        "def calc_distribution(x, theta):\n",
        "  # p(z=j) =  f(x | theta, z=1 ) * p(z=1) / sum [f(x | theta, z=j ) * p(z=j)]\n",
        "  p_z_1 = f(x, mu = theta[0], sigma2 = theta[1]) * theta[2] / \\\n",
        "              (theta[2] * f(x, mu = theta[0], sigma2 = theta[1]) + \\\n",
        "              (theta[5]) * f(x, mu = theta[3], sigma2 = theta[4]) + \\\n",
        "              (theta[8]) * f(x, mu = theta[6], sigma2 = theta[7]) + \\\n",
        "              (theta[11]) * f(x, mu = theta[9], sigma2 = theta[10]) + \\\n",
        "              (theta[14]) * f(x, mu = theta[12], sigma2 = theta[13]) + \\\n",
        "              (theta[17]) * f(x, mu = theta[15], sigma2 = theta[16]))\n",
        "\n",
        "  p_z_2 = (theta[5]) * f(x, mu = theta[3], sigma2 = theta[4]) / \\\n",
        "              (theta[2] * f(x, mu = theta[0], sigma2 = theta[1]) + \\\n",
        "              (theta[5]) * f(x, mu = theta[3], sigma2 = theta[4]) + \\\n",
        "              (theta[8]) * f(x, mu = theta[6], sigma2 = theta[7]) + \\\n",
        "              (theta[11]) * f(x, mu = theta[9], sigma2 = theta[10]) + \\\n",
        "              (theta[14]) * f(x, mu = theta[12], sigma2 = theta[13]) + \\\n",
        "              (theta[17]) * f(x, mu = theta[15], sigma2 = theta[16]))\n",
        "\n",
        "  p_z_3 = (theta[8]) * f(x, mu = theta[6], sigma2 = theta[7])/ \\\n",
        "              (theta[2] * f(x, mu = theta[0], sigma2 = theta[1]) + \\\n",
        "              (theta[5]) * f(x, mu = theta[3], sigma2 = theta[4]) + \\\n",
        "              (theta[8]) * f(x, mu = theta[6], sigma2 = theta[7]) + \\\n",
        "              (theta[11]) * f(x, mu = theta[9], sigma2 = theta[10]) + \\\n",
        "              (theta[14]) * f(x, mu = theta[12], sigma2 = theta[13]) + \\\n",
        "              (theta[17]) * f(x, mu = theta[15], sigma2 = theta[16]))\n",
        "\n",
        "  p_z_4 = (theta[11]) * f(x, mu = theta[9], sigma2 = theta[10]) / \\\n",
        "              (theta[2] * f(x, mu = theta[0], sigma2 = theta[1]) + \\\n",
        "              (theta[5]) * f(x, mu = theta[3], sigma2 = theta[4]) + \\\n",
        "              (theta[8]) * f(x, mu = theta[6], sigma2 = theta[7]) + \\\n",
        "              (theta[11]) * f(x, mu = theta[9], sigma2 = theta[10]) + \\\n",
        "              (theta[14]) * f(x, mu = theta[12], sigma2 = theta[13]) + \\\n",
        "              (theta[17]) * f(x, mu = theta[15], sigma2 = theta[16]))\n",
        "\n",
        "  p_z_5 = (theta[14]) * f(x, mu = theta[12], sigma2 = theta[13]) / \\\n",
        "              (theta[2] * f(x, mu = theta[0], sigma2 = theta[1]) + \\\n",
        "              (theta[5]) * f(x, mu = theta[3], sigma2 = theta[4]) + \\\n",
        "              (theta[8]) * f(x, mu = theta[6], sigma2 = theta[7]) + \\\n",
        "              (theta[11]) * f(x, mu = theta[9], sigma2 = theta[10]) + \\\n",
        "              (theta[14]) * f(x, mu = theta[12], sigma2 = theta[13]) + \\\n",
        "              (theta[17]) * f(x, mu = theta[15], sigma2 = theta[16]))\n",
        "\n",
        "  p_z_6 = (theta[17]) * f(x, mu = theta[15], sigma2 = theta[16]) / \\\n",
        "              (theta[2] * f(x, mu = theta[0], sigma2 = theta[1]) + \\\n",
        "              (theta[5]) * f(x, mu = theta[3], sigma2 = theta[4]) + \\\n",
        "              (theta[8]) * f(x, mu = theta[6], sigma2 = theta[7]) + \\\n",
        "              (theta[11]) * f(x, mu = theta[9], sigma2 = theta[10]) + \\\n",
        "              (theta[14]) * f(x, mu = theta[12], sigma2 = theta[13]) + \\\n",
        "              (theta[17]) * f(x, mu = theta[15], sigma2 = theta[16]))\n",
        "  return pd.concat([p_z_1, p_z_2, p_z_3, p_z_4, p_z_5, p_z_6], axis=1, keys=['z1', 'z2', 'z3', 'z4', 'z5', 'z6'])\n",
        "\n",
        "pd.concat([x, calc_distribution(x, theta)], axis=1)"
      ]
    },
    {
      "cell_type": "code",
      "execution_count": null,
      "id": "ec3b309d",
      "metadata": {
        "ExecuteTime": {
          "end_time": "2021-11-19T19:47:01.311364Z",
          "start_time": "2021-11-19T19:47:01.288361Z"
        },
        "id": "ec3b309d",
        "outputId": "1e24fb88-4e48-4eb1-d016-dc393cc3bb5c",
        "colab": {
          "base_uri": "https://localhost:8080/"
        }
      },
      "outputs": [
        {
          "output_type": "execute_result",
          "data": {
            "text/plain": [
              "array([0.00000000e+00, 2.40183562e-01, 1.00000000e-01, 4.00000000e+00,\n",
              "       2.17433134e-01, 2.50300000e-01, 3.00000000e+00, 1.13278384e-04,\n",
              "       2.01100000e-01, 8.00000000e+00, 8.14939275e-01, 5.11500000e-02,\n",
              "       1.70000000e+01, 1.41837542e+01, 3.05800000e-01, 2.50000000e+01,\n",
              "       5.74932320e-06, 9.16500000e-02])"
            ]
          },
          "metadata": {},
          "execution_count": 10
        }
      ],
      "source": [
        "# Реализуйте формулы для одного M-шага\n",
        "mu_1 = np.sum(p_z_1 * x) / np.sum(p_z_1)\n",
        "mu_2 = np.sum(p_z_2 * x) / np.sum(p_z_2)\n",
        "mu_3 = np.sum(p_z_3 * x) / np.sum(p_z_3)\n",
        "mu_4 = np.sum(p_z_4 * x) / np.sum(p_z_4)\n",
        "mu_5 = np.sum(p_z_5 * x) / np.sum(p_z_5)\n",
        "mu_6 = np.sum(p_z_6 * x) / np.sum(p_z_6)\n",
        "sigma2_1 = np.sum((x - mu_1) ** 2 * p_z_1)/ np.sum(p_z_1)\n",
        "sigma2_2 = np.sum((x - mu_2) ** 2 * p_z_2)/ np.sum(p_z_2)\n",
        "sigma2_3 = np.sum((x - mu_3) ** 2 * p_z_3)/ np.sum(p_z_3)\n",
        "sigma2_4 = np.sum((x - mu_4) ** 2 * p_z_4)/ np.sum(p_z_4)\n",
        "sigma2_5 = np.sum((x - mu_5) ** 2 * p_z_5)/ np.sum(p_z_5)\n",
        "sigma2_6 = np.sum((x - mu_6) ** 2 * p_z_6)/ np.sum(p_z_6)\n",
        "p_1 = np.sum(p_z_1) / len(x)\n",
        "p_2 = np.sum(p_z_2) / len(x)\n",
        "p_3 = np.sum(p_z_3) / len(x)\n",
        "p_4 = np.sum(p_z_4) / len(x)\n",
        "p_5 = np.sum(p_z_5) / len(x)\n",
        "p_6 = np.sum(p_z_6) / len(x)\n",
        "theta_new = np.array([mu_1, sigma2_1, p_1,\n",
        "                 mu_2, sigma2_2, p_2,\n",
        "                 mu_3, sigma2_3, p_3,\n",
        "                 mu_4, sigma2_4, p_4,\n",
        "                 mu_5, sigma2_5, p_5,\n",
        "                 mu_6, sigma2_6, p_6])\n",
        "theta"
      ]
    },
    {
      "cell_type": "code",
      "execution_count": null,
      "id": "f5cbf52f",
      "metadata": {
        "ExecuteTime": {
          "end_time": "2021-11-19T19:47:03.991558Z",
          "start_time": "2021-11-19T19:47:03.985546Z"
        },
        "id": "f5cbf52f",
        "outputId": "77c4c2f6-c1de-4377-ba36-68b556931cfa",
        "colab": {
          "base_uri": "https://localhost:8080/"
        }
      },
      "outputs": [
        {
          "output_type": "execute_result",
          "data": {
            "text/plain": [
              "array([-7.91472387e-03,  2.39871971e-01,  1.42842226e-01,  3.99046412e+00,\n",
              "        2.52804116e-01,  7.24542763e-02,  3.00032231e+00,  9.79035520e-05,\n",
              "        2.84629402e-01,  7.95040463e+00,  5.93996382e-01,  6.25285509e-02,\n",
              "        1.59631084e+01,  1.52939039e+01,  8.04902599e-02,  2.50000303e+01,\n",
              "        1.01464637e-06,  3.57055284e-01])"
            ]
          },
          "metadata": {},
          "execution_count": 11
        }
      ],
      "source": [
        "theta_new"
      ]
    },
    {
      "cell_type": "code",
      "execution_count": null,
      "id": "91f74ef8",
      "metadata": {
        "ExecuteTime": {
          "end_time": "2021-11-19T19:47:04.768573Z",
          "start_time": "2021-11-19T19:47:04.764565Z"
        },
        "id": "91f74ef8"
      },
      "outputs": [],
      "source": [
        "# Логарифм функции плотности x\n",
        "def lnf(x, mu, sigma2):\n",
        "    return -1/2 * np.log(2 * np.pi * sigma2) - 1/2 * (x - mu) ** 2 / sigma2"
      ]
    },
    {
      "cell_type": "code",
      "execution_count": null,
      "id": "a0609a20",
      "metadata": {
        "ExecuteTime": {
          "end_time": "2021-11-19T19:47:07.093799Z",
          "start_time": "2021-11-19T19:47:07.080742Z"
        },
        "id": "a0609a20"
      },
      "outputs": [],
      "source": [
        "def Q_f(x, theta, p_z_1, p_z_2, p_z_3, p_z_4, p_z_5, p_z_6):\n",
        "    ell1 = lnf(x, theta[0], theta[1]) + np.log(theta[2])\n",
        "    ell2 = lnf(x, theta[3], theta[4]) + np.log(theta[5])\n",
        "    ell3 = lnf(x, theta[6], theta[7]) + np.log(theta[8])\n",
        "    ell4 = lnf(x, theta[9], theta[10]) + np.log(theta[11])\n",
        "    ell5 = lnf(x, theta[12], theta[13]) + np.log(theta[14])\n",
        "    ell6 = lnf(x, theta[15], theta[16]) + np.log(theta[17])\n",
        "    return np.sum(p_z_1 * ell1 + p_z_2 * ell2 + p_z_3 * ell3 +\\\n",
        "                 p_z_4 * ell4 + p_z_5 * ell5 + p_z_6 * ell6)"
      ]
    },
    {
      "cell_type": "code",
      "execution_count": null,
      "id": "3537c3bd",
      "metadata": {
        "ExecuteTime": {
          "end_time": "2021-11-19T19:47:07.824931Z",
          "start_time": "2021-11-19T19:47:07.726753Z"
        },
        "id": "3537c3bd"
      },
      "outputs": [],
      "source": [
        "def EM(x, theta, n=100, eps=1e-4):\n",
        "    \n",
        "    Q_history = []\n",
        "    \n",
        "    for i in range(n):\n",
        "        \n",
        "        # E-step\n",
        "        p_z_1 = f(x, mu = theta[0], sigma2 = theta[1]) * theta[2] / \\\n",
        "            (theta[2] * f(x, mu = theta[0], sigma2 = theta[1]) + \\\n",
        "             (theta[5]) * f(x, mu = theta[3], sigma2 = theta[4]) + \\\n",
        "             (theta[8]) * f(x, mu = theta[6], sigma2 = theta[7]) + \\\n",
        "             (theta[11]) * f(x, mu = theta[9], sigma2 = theta[10]) + \\\n",
        "             (theta[14]) * f(x, mu = theta[12], sigma2 = theta[13]) + \\\n",
        "             (theta[17]) * f(x, mu = theta[15], sigma2 = theta[16]))\n",
        "\n",
        "        p_z_2 = (theta[5]) * f(x, mu = theta[3], sigma2 = theta[4]) / \\\n",
        "                    (theta[2] * f(x, mu = theta[0], sigma2 = theta[1]) + \\\n",
        "                     (theta[5]) * f(x, mu = theta[3], sigma2 = theta[4]) + \\\n",
        "                     (theta[8]) * f(x, mu = theta[6], sigma2 = theta[7]) + \\\n",
        "                     (theta[11]) * f(x, mu = theta[9], sigma2 = theta[10]) + \\\n",
        "                     (theta[14]) * f(x, mu = theta[12], sigma2 = theta[13]) + \\\n",
        "                     (theta[17]) * f(x, mu = theta[15], sigma2 = theta[16]))\n",
        "\n",
        "        p_z_3 = (theta[8]) * f(x, mu = theta[6], sigma2 = theta[7])/ \\\n",
        "                    (theta[2] * f(x, mu = theta[0], sigma2 = theta[1]) + \\\n",
        "                     (theta[5]) * f(x, mu = theta[3], sigma2 = theta[4]) + \\\n",
        "                     (theta[8]) * f(x, mu = theta[6], sigma2 = theta[7]) + \\\n",
        "                     (theta[11]) * f(x, mu = theta[9], sigma2 = theta[10]) + \\\n",
        "                     (theta[14]) * f(x, mu = theta[12], sigma2 = theta[13]) + \\\n",
        "                     (theta[17]) * f(x, mu = theta[15], sigma2 = theta[16]))\n",
        "\n",
        "        p_z_4 = (theta[11]) * f(x, mu = theta[9], sigma2 = theta[10]) / \\\n",
        "                    (theta[2] * f(x, mu = theta[0], sigma2 = theta[1]) + \\\n",
        "                     (theta[5]) * f(x, mu = theta[3], sigma2 = theta[4]) + \\\n",
        "                     (theta[8]) * f(x, mu = theta[6], sigma2 = theta[7]) + \\\n",
        "                     (theta[11]) * f(x, mu = theta[9], sigma2 = theta[10]) + \\\n",
        "                     (theta[14]) * f(x, mu = theta[12], sigma2 = theta[13]) + \\\n",
        "                     (theta[17]) * f(x, mu = theta[15], sigma2 = theta[16]))\n",
        "\n",
        "        p_z_5 = (theta[14]) * f(x, mu = theta[12], sigma2 = theta[13]) / \\\n",
        "                    (theta[2] * f(x, mu = theta[0], sigma2 = theta[1]) + \\\n",
        "                     (theta[5]) * f(x, mu = theta[3], sigma2 = theta[4]) + \\\n",
        "                     (theta[8]) * f(x, mu = theta[6], sigma2 = theta[7]) + \\\n",
        "                     (theta[11]) * f(x, mu = theta[9], sigma2 = theta[10]) + \\\n",
        "                     (theta[14]) * f(x, mu = theta[12], sigma2 = theta[13]) + \\\n",
        "                     (theta[17]) * f(x, mu = theta[15], sigma2 = theta[16]))\n",
        "\n",
        "        p_z_6 = (theta[17]) * f(x, mu = theta[15], sigma2 = theta[16]) / \\\n",
        "                    (theta[2] * f(x, mu = theta[0], sigma2 = theta[1]) + \\\n",
        "                     (theta[5]) * f(x, mu = theta[3], sigma2 = theta[4]) + \\\n",
        "                     (theta[8]) * f(x, mu = theta[6], sigma2 = theta[7]) + \\\n",
        "                     (theta[11]) * f(x, mu = theta[9], sigma2 = theta[10]) + \\\n",
        "                     (theta[14]) * f(x, mu = theta[12], sigma2 = theta[13]) + \\\n",
        "                     (theta[17]) * f(x, mu = theta[15], sigma2 = theta[16]))\n",
        "        \n",
        "        Q_history.append(Q_f(x, theta, p_z_1, p_z_2, p_z_3, p_z_4, p_z_5, p_z_6))\n",
        "        \n",
        "        if i > 0:\n",
        "            if (Q_history[i] - Q_history[i-1])**2 < eps:\n",
        "              print('delta Q < eps on', i, '!!!')\n",
        "              break\n",
        "        \n",
        "        # M-step\n",
        "        mu_1 = np.sum(p_z_1 * x) / np.sum(p_z_1)\n",
        "        mu_2 = np.sum(p_z_2 * x) / np.sum(p_z_2)\n",
        "        mu_3 = np.sum(p_z_3 * x) / np.sum(p_z_3)\n",
        "        mu_4 = np.sum(p_z_4 * x) / np.sum(p_z_4)\n",
        "        mu_5 = np.sum(p_z_5 * x) / np.sum(p_z_5)\n",
        "        mu_6 = np.sum(p_z_6 * x) / np.sum(p_z_6)\n",
        "        sigma2_1 = np.sum((x - mu_1) ** 2 * p_z_1)/ np.sum(p_z_1)\n",
        "        sigma2_2 = np.sum((x - mu_2) ** 2 * p_z_2)/ np.sum(p_z_2)\n",
        "        sigma2_3 = np.sum((x - mu_3) ** 2 * p_z_3)/ np.sum(p_z_3)\n",
        "        sigma2_4 = np.sum((x - mu_4) ** 2 * p_z_4)/ np.sum(p_z_4)\n",
        "        sigma2_5 = np.sum((x - mu_5) ** 2 * p_z_5)/ np.sum(p_z_5)\n",
        "        sigma2_6 = np.sum((x - mu_6) ** 2 * p_z_6)/ np.sum(p_z_6)\n",
        "        p_1 = np.sum(p_z_1) / len(x)\n",
        "        p_2 = np.sum(p_z_2) / len(x)\n",
        "        p_3 = np.sum(p_z_3) / len(x)\n",
        "        p_4 = np.sum(p_z_4) / len(x)\n",
        "        p_5 = np.sum(p_z_5) / len(x)\n",
        "        p_6 = np.sum(p_z_6) / len(x)\n",
        "        theta_new = np.array([mu_1, sigma2_1, p_1,\n",
        "                         mu_2, sigma2_2, p_2,\n",
        "                         mu_3, sigma2_3, p_3,\n",
        "                         mu_4, sigma2_4, p_4,\n",
        "                         mu_5, sigma2_5, p_5,\n",
        "                         mu_6, sigma2_6, p_6])\n",
        "        \n",
        "        theta = theta_new\n",
        "    \n",
        "    return (theta, Q_history)"
      ]
    },
    {
      "cell_type": "code",
      "source": [
        "theta = np.array([-1, sigma2_1*1000, p_1,\n",
        "                 5, sigma2_2*100, p_2,\n",
        "                 6, sigma2_3*100, p_3,\n",
        "                 8, sigma2_4*10, p_4,\n",
        "                 21, sigma2_5*10, p_5,\n",
        "                 25, sigma2_6*10, p_6])\n",
        "print(len(theta))\n",
        "theta"
      ],
      "metadata": {
        "id": "qgy8oPglt1vJ",
        "colab": {
          "base_uri": "https://localhost:8080/"
        },
        "outputId": "7cdfb9f7-bc5b-4562-b655-8e09fdcde47f"
      },
      "id": "qgy8oPglt1vJ",
      "execution_count": null,
      "outputs": [
        {
          "output_type": "stream",
          "name": "stdout",
          "text": [
            "18\n"
          ]
        },
        {
          "output_type": "execute_result",
          "data": {
            "text/plain": [
              "array([-1.00000000e+00,  2.39871971e+02,  1.42842226e-01,  5.00000000e+00,\n",
              "        2.52804116e+01,  7.24542763e-02,  6.00000000e+00,  9.79035520e-03,\n",
              "        2.84629402e-01,  8.00000000e+00,  5.93996382e+00,  6.25285509e-02,\n",
              "        2.10000000e+01,  1.52939039e+02,  8.04902599e-02,  2.50000000e+01,\n",
              "        1.01464637e-05,  3.57055284e-01])"
            ]
          },
          "metadata": {},
          "execution_count": 41
        }
      ]
    },
    {
      "cell_type": "code",
      "execution_count": null,
      "id": "d257e557",
      "metadata": {
        "ExecuteTime": {
          "end_time": "2021-11-19T19:47:10.955461Z",
          "start_time": "2021-11-19T19:47:09.221239Z"
        },
        "id": "d257e557",
        "outputId": "b6cce154-e28c-4207-80c8-e5b2b94e07a0",
        "colab": {
          "base_uri": "https://localhost:8080/"
        }
      },
      "outputs": [
        {
          "output_type": "stream",
          "name": "stdout",
          "text": [
            "delta Q < eps on 13 !!!\n"
          ]
        },
        {
          "output_type": "execute_result",
          "data": {
            "text/plain": [
              "array([-7.80466575e-03,  2.40046639e-01,  1.42856229e-01,  4.00864066e+00,\n",
              "        2.40027164e-01,  7.12548478e-02,  3.00033350e+00,  9.87252114e-05,\n",
              "        2.85908528e-01,  8.02341063e+00,  6.90405886e-01,  7.14163094e-02,\n",
              "        1.68921887e+01,  9.08577271e+00,  7.14232071e-02,  2.50000303e+01,\n",
              "        1.01467845e-06,  3.57140878e-01])"
            ]
          },
          "metadata": {},
          "execution_count": 50
        }
      ],
      "source": [
        "theta, Q = EM(x, theta)\n",
        "theta"
      ]
    },
    {
      "cell_type": "markdown",
      "id": "aa57826e",
      "metadata": {
        "id": "aa57826e"
      },
      "source": [
        "##### (в) Постройте график $Q$ в зависимости от числа итераций."
      ]
    },
    {
      "cell_type": "code",
      "execution_count": null,
      "id": "e716c78c",
      "metadata": {
        "ExecuteTime": {
          "end_time": "2021-11-19T19:47:13.208197Z",
          "start_time": "2021-11-19T19:47:13.097571Z"
        },
        "id": "e716c78c",
        "outputId": "934b786e-a15e-4af2-cecf-39006b23ce89",
        "colab": {
          "base_uri": "https://localhost:8080/",
          "height": 282
        }
      },
      "outputs": [
        {
          "output_type": "execute_result",
          "data": {
            "text/plain": [
              "[<matplotlib.lines.Line2D at 0x7f8d462a3c50>]"
            ]
          },
          "metadata": {},
          "execution_count": 51
        },
        {
          "output_type": "display_data",
          "data": {
            "text/plain": [
              "<Figure size 432x288 with 1 Axes>"
            ],
            "image/png": "[encoded data removed]"
          },
          "metadata": {
            "needs_background": "light"
          }
        }
      ],
      "source": [
        "plt.plot(Q)"
      ]
    },
    {
      "cell_type": "code",
      "source": [
        "pd.concat([x, calc_distribution(x, theta)], axis=1)"
      ],
      "metadata": {
        "id": "N1B3Zu81j2lr",
        "outputId": "e56ea9d8-5909-43e0-c1c5-2566c401f2ab",
        "colab": {
          "base_uri": "https://localhost:8080/",
          "height": 424
        }
      },
      "id": "N1B3Zu81j2lr",
      "execution_count": null,
      "outputs": [
        {
          "output_type": "execute_result",
          "data": {
            "text/plain": [
              "              X       z1       z2       z3       z4       z5       z6\n",
              "0     25.000141 0.000000 0.000000 0.000000 0.000000 0.000002 0.999998\n",
              "1      2.996731 0.000000 0.000639 0.999361 0.000000 0.000000 0.000000\n",
              "2     -0.673019 1.000000 0.000000 0.000000 0.000000 0.000000 0.000000\n",
              "3      2.998876 0.000000 0.000610 0.999390 0.000000 0.000000 0.000000\n",
              "4     25.000178 0.000000 0.000000 0.000000 0.000000 0.000002 0.999998\n",
              "...         ...      ...      ...      ...      ...      ...      ...\n",
              "13995  3.954072 0.000000 0.999980 0.000000 0.000004 0.000016 0.000000\n",
              "13996  3.002716 0.000000 0.000632 0.999368 0.000000 0.000000 0.000000\n",
              "13997  6.085865 0.000000 0.003172 0.000000 0.990131 0.006698 0.000000\n",
              "13998  2.983889 0.000000 0.002226 0.997774 0.000000 0.000000 0.000000\n",
              "13999 25.001072 0.000000 0.000000 0.000000 0.000000 0.000003 0.999997\n",
              "\n",
              "[14000 rows x 7 columns]"
            ],
            "text/html": [
              "\n",
              "  <div id=\"df-63d9a577-683c-4458-ac56-c1e1e8c2f9bb\">\n",
              "    <div class=\"colab-df-container\">\n",
              "      <div>\n",
              "<style scoped>\n",
              "    .dataframe tbody tr th:only-of-type {\n",
              "        vertical-align: middle;\n",
              "    }\n",
              "\n",
              "    .dataframe tbody tr th {\n",
              "        vertical-align: top;\n",
              "    }\n",
              "\n",
              "    .dataframe thead th {\n",
              "        text-align: right;\n",
              "    }\n",
              "</style>\n",
              "<table border=\"1\" class=\"dataframe\">\n",
              "  <thead>\n",
              "    <tr style=\"text-align: right;\">\n",
              "      <th></th>\n",
              "      <th>X</th>\n",
              "      <th>z1</th>\n",
              "      <th>z2</th>\n",
              "      <th>z3</th>\n",
              "      <th>z4</th>\n",
              "      <th>z5</th>\n",
              "      <th>z6</th>\n",
              "    </tr>\n",
              "  </thead>\n",
              "  <tbody>\n",
              "    <tr>\n",
              "      <th>0</th>\n",
              "      <td>25.000141</td>\n",
              "      <td>0.000000</td>\n",
              "      <td>0.000000</td>\n",
              "      <td>0.000000</td>\n",
              "      <td>0.000000</td>\n",
              "      <td>0.000002</td>\n",
              "      <td>0.999998</td>\n",
              "    </tr>\n",
              "    <tr>\n",
              "      <th>1</th>\n",
              "      <td>2.996731</td>\n",
              "      <td>0.000000</td>\n",
              "      <td>0.000639</td>\n",
              "      <td>0.999361</td>\n",
              "      <td>0.000000</td>\n",
              "      <td>0.000000</td>\n",
              "      <td>0.000000</td>\n",
              "    </tr>\n",
              "    <tr>\n",
              "      <th>2</th>\n",
              "      <td>-0.673019</td>\n",
              "      <td>1.000000</td>\n",
              "      <td>0.000000</td>\n",
              "      <td>0.000000</td>\n",
              "      <td>0.000000</td>\n",
              "      <td>0.000000</td>\n",
              "      <td>0.000000</td>\n",
              "    </tr>\n",
              "    <tr>\n",
              "      <th>3</th>\n",
              "      <td>2.998876</td>\n",
              "      <td>0.000000</td>\n",
              "      <td>0.000610</td>\n",
              "      <td>0.999390</td>\n",
              "      <td>0.000000</td>\n",
              "      <td>0.000000</td>\n",
              "      <td>0.000000</td>\n",
              "    </tr>\n",
              "    <tr>\n",
              "      <th>4</th>\n",
              "      <td>25.000178</td>\n",
              "      <td>0.000000</td>\n",
              "      <td>0.000000</td>\n",
              "      <td>0.000000</td>\n",
              "      <td>0.000000</td>\n",
              "      <td>0.000002</td>\n",
              "      <td>0.999998</td>\n",
              "    </tr>\n",
              "    <tr>\n",
              "      <th>...</th>\n",
              "      <td>...</td>\n",
              "      <td>...</td>\n",
              "      <td>...</td>\n",
              "      <td>...</td>\n",
              "      <td>...</td>\n",
              "      <td>...</td>\n",
              "      <td>...</td>\n",
              "    </tr>\n",
              "    <tr>\n",
              "      <th>13995</th>\n",
              "      <td>3.954072</td>\n",
              "      <td>0.000000</td>\n",
              "      <td>0.999980</td>\n",
              "      <td>0.000000</td>\n",
              "      <td>0.000004</td>\n",
              "      <td>0.000016</td>\n",
              "      <td>0.000000</td>\n",
              "    </tr>\n",
              "    <tr>\n",
              "      <th>13996</th>\n",
              "      <td>3.002716</td>\n",
              "      <td>0.000000</td>\n",
              "      <td>0.000632</td>\n",
              "      <td>0.999368</td>\n",
              "      <td>0.000000</td>\n",
              "      <td>0.000000</td>\n",
              "      <td>0.000000</td>\n",
              "    </tr>\n",
              "    <tr>\n",
              "      <th>13997</th>\n",
              "      <td>6.085865</td>\n",
              "      <td>0.000000</td>\n",
              "      <td>0.003172</td>\n",
              "      <td>0.000000</td>\n",
              "      <td>0.990131</td>\n",
              "      <td>0.006698</td>\n",
              "      <td>0.000000</td>\n",
              "    </tr>\n",
              "    <tr>\n",
              "      <th>13998</th>\n",
              "      <td>2.983889</td>\n",
              "      <td>0.000000</td>\n",
              "      <td>0.002226</td>\n",
              "      <td>0.997774</td>\n",
              "      <td>0.000000</td>\n",
              "      <td>0.000000</td>\n",
              "      <td>0.000000</td>\n",
              "    </tr>\n",
              "    <tr>\n",
              "      <th>13999</th>\n",
              "      <td>25.001072</td>\n",
              "      <td>0.000000</td>\n",
              "      <td>0.000000</td>\n",
              "      <td>0.000000</td>\n",
              "      <td>0.000000</td>\n",
              "      <td>0.000003</td>\n",
              "      <td>0.999997</td>\n",
              "    </tr>\n",
              "  </tbody>\n",
              "</table>\n",
              "<p>14000 rows × 7 columns</p>\n",
              "</div>\n",
              "      <button class=\"colab-df-convert\" onclick=\"convertToInteractive('df-63d9a577-683c-4458-ac56-c1e1e8c2f9bb')\"\n",
              "              title=\"Convert this dataframe to an interactive table.\"\n",
              "              style=\"display:none;\">\n",
              "        \n",
              "  <svg xmlns=\"http://www.w3.org/2000/svg\" height=\"24px\"viewBox=\"0 0 24 24\"\n",
              "       width=\"24px\">\n",
              "    <path d=\"M0 0h24v24H0V0z\" fill=\"none\"/>\n",
              "    <path d=\"M18.56 5.44l.94 2.06.94-2.06 2.06-.94-2.06-.94-.94-2.06-.94 2.06-2.06.94zm-11 1L8.5 8.5l.94-2.06 2.06-.94-2.06-.94L8.5 2.5l-.94 2.06-2.06.94zm10 10l.94 2.06.94-2.06 2.06-.94-2.06-.94-.94-2.06-.94 2.06-2.06.94z\"/><path d=\"M17.41 7.96l-1.37-1.37c-.4-.4-.92-.59-1.43-.59-.52 0-1.04.2-1.43.59L10.3 9.45l-7.72 7.72c-.78.78-.78 2.05 0 2.83L4 21.41c.39.39.9.59 1.41.59.51 0 1.02-.2 1.41-.59l7.78-7.78 2.81-2.81c.8-.78.8-2.07 0-2.86zM5.41 20L4 18.59l7.72-7.72 1.47 1.35L5.41 20z\"/>\n",
              "  </svg>\n",
              "      </button>\n",
              "      \n",
              "  <style>\n",
              "    .colab-df-container {\n",
              "      display:flex;\n",
              "      flex-wrap:wrap;\n",
              "      gap: 12px;\n",
              "    }\n",
              "\n",
              "    .colab-df-convert {\n",
              "      background-color: #E8F0FE;\n",
              "      border: none;\n",
              "      border-radius: 50%;\n",
              "      cursor: pointer;\n",
              "      display: none;\n",
              "      fill: #1967D2;\n",
              "      height: 32px;\n",
              "      padding: 0 0 0 0;\n",
              "      width: 32px;\n",
              "    }\n",
              "\n",
              "    .colab-df-convert:hover {\n",
              "      background-color: #E2EBFA;\n",
              "      box-shadow: 0px 1px 2px rgba(60, 64, 67, 0.3), 0px 1px 3px 1px rgba(60, 64, 67, 0.15);\n",
              "      fill: #174EA6;\n",
              "    }\n",
              "\n",
              "    [theme=dark] .colab-df-convert {\n",
              "      background-color: #3B4455;\n",
              "      fill: #D2E3FC;\n",
              "    }\n",
              "\n",
              "    [theme=dark] .colab-df-convert:hover {\n",
              "      background-color: #434B5C;\n",
              "      box-shadow: 0px 1px 3px 1px rgba(0, 0, 0, 0.15);\n",
              "      filter: drop-shadow(0px 1px 2px rgba(0, 0, 0, 0.3));\n",
              "      fill: #FFFFFF;\n",
              "    }\n",
              "  </style>\n",
              "\n",
              "      <script>\n",
              "        const buttonEl =\n",
              "          document.querySelector('#df-63d9a577-683c-4458-ac56-c1e1e8c2f9bb button.colab-df-convert');\n",
              "        buttonEl.style.display =\n",
              "          google.colab.kernel.accessAllowed ? 'block' : 'none';\n",
              "\n",
              "        async function convertToInteractive(key) {\n",
              "          const element = document.querySelector('#df-63d9a577-683c-4458-ac56-c1e1e8c2f9bb');\n",
              "          const dataTable =\n",
              "            await google.colab.kernel.invokeFunction('convertToInteractive',\n",
              "                                                     [key], {});\n",
              "          if (!dataTable) return;\n",
              "\n",
              "          const docLinkHtml = 'Like what you see? Visit the ' +\n",
              "            '<a target=\"_blank\" href=https://colab.research.google.com/notebooks/data_table.ipynb>data table notebook</a>'\n",
              "            + ' to learn more about interactive tables.';\n",
              "          element.innerHTML = '';\n",
              "          dataTable['output_type'] = 'display_data';\n",
              "          await google.colab.output.renderOutput(dataTable, element);\n",
              "          const docLink = document.createElement('div');\n",
              "          docLink.innerHTML = docLinkHtml;\n",
              "          element.appendChild(docLink);\n",
              "        }\n",
              "      </script>\n",
              "    </div>\n",
              "  </div>\n",
              "  "
            ]
          },
          "metadata": {},
          "execution_count": 52
        }
      ]
    },
    {
      "cell_type": "code",
      "source": [
        "np.array(calc_distribution(x, theta)).argmax(axis=1)"
      ],
      "metadata": {
        "id": "JeLkS5P8lGFo",
        "outputId": "216057c4-90ad-4e7a-b3e7-07df475d67d3",
        "colab": {
          "base_uri": "https://localhost:8080/"
        }
      },
      "id": "JeLkS5P8lGFo",
      "execution_count": null,
      "outputs": [
        {
          "output_type": "execute_result",
          "data": {
            "text/plain": [
              "array([5, 2, 0, ..., 3, 2, 5])"
            ]
          },
          "metadata": {},
          "execution_count": 61
        }
      ]
    },
    {
      "cell_type": "markdown",
      "source": [
        "Зачем всё это нужно?\n",
        "\n",
        "\n",
        "Допустим, есть признак, который в исходном виде слабо коррелирует с целевой переменной и в модель не даёт требуемого вклада. Вы ничего не знаете про этот признак, не знаете как поделить на категории. Как ем поможет?\n",
        "1. Строим распределение, пытаемся понять, можно ли его расщепить на какие-то кластеры с распределением, известным вам (экспоненциальное, нормальное, биномиальное, пуассона, геометрическое и т.д.)\n",
        "2. Запускаем ЕМ-алгоритм для конкретной задачи\n",
        "3. Берём аргмакс латентных переменных\n",
        "4. Закидываем полученные категории\\кластеры как объясняющие переменные вместо расщеплённой (one-hod encoding)\n",
        "5. Обучаем заново с категориями\n",
        "\n",
        "Также как альтернатива кластеризации..."
      ],
      "metadata": {
        "id": "BF9vaF63we6i"
      },
      "id": "BF9vaF63we6i"
    },
    {
      "cell_type": "markdown",
      "id": "32030e9e",
      "metadata": {
        "id": "32030e9e"
      },
      "source": [
        "##### (г) Являются ли полученные оценки параметров адекватными (адекватность оцените визуально по гистограмме). Если нет, приведите возможную причину провала EM-алгоритма. "
      ]
    },
    {
      "cell_type": "code",
      "execution_count": null,
      "id": "7fb7b475",
      "metadata": {
        "ExecuteTime": {
          "end_time": "2021-11-19T19:47:15.594072Z",
          "start_time": "2021-11-19T19:47:15.480741Z"
        },
        "id": "7fb7b475",
        "outputId": "85da2f89-9e66-41fa-c324-4d36dacb2bd5",
        "colab": {
          "base_uri": "https://localhost:8080/"
        }
      },
      "outputs": [
        {
          "output_type": "execute_result",
          "data": {
            "text/plain": [
              "array([2000,  991, 4010, 1010,  989, 5000])"
            ]
          },
          "metadata": {},
          "execution_count": 53
        }
      ],
      "source": [
        "clusters = np.array(calc_distribution(x, theta)).argmax(axis=1)\n",
        "np.bincount(clusters)"
      ]
    },
    {
      "cell_type": "code",
      "source": [
        "np.unique(clusters)"
      ],
      "metadata": {
        "id": "3RWS_w8wl-nU",
        "outputId": "233e7f06-d594-4351-e1b0-f74e87e072f2",
        "colab": {
          "base_uri": "https://localhost:8080/"
        }
      },
      "id": "3RWS_w8wl-nU",
      "execution_count": null,
      "outputs": [
        {
          "output_type": "execute_result",
          "data": {
            "text/plain": [
              "array([0, 1, 2, 3, 4, 5])"
            ]
          },
          "metadata": {},
          "execution_count": 54
        }
      ]
    },
    {
      "cell_type": "code",
      "source": [
        "for i in np.unique(clusters):\n",
        "  print('Описание кластера', i)\n",
        "  print(x[clusters==i].describe())"
      ],
      "metadata": {
        "id": "_iGmUuZYl078",
        "outputId": "1462b592-1fa1-479f-ea4d-3271e684cbb4",
        "colab": {
          "base_uri": "https://localhost:8080/"
        }
      },
      "id": "_iGmUuZYl078",
      "execution_count": null,
      "outputs": [
        {
          "output_type": "stream",
          "name": "stdout",
          "text": [
            "Описание кластера 0\n",
            "count   2000.000000\n",
            "mean      -0.007794\n",
            "std        0.490085\n",
            "min       -1.900689\n",
            "25%       -0.334654\n",
            "50%       -0.004229\n",
            "75%        0.330225\n",
            "max        1.785790\n",
            "Name: X, dtype: float64\n",
            "Описание кластера 1\n",
            "count   991.000000\n",
            "mean      4.016693\n",
            "std       0.484443\n",
            "min       2.466506\n",
            "25%       3.687216\n",
            "50%       4.029693\n",
            "75%       4.333080\n",
            "max       5.395986\n",
            "Name: X, dtype: float64\n",
            "Описание кластера 2\n",
            "count   4010.000000\n",
            "mean       3.000336\n",
            "std        0.009972\n",
            "min        2.963145\n",
            "25%        2.993415\n",
            "50%        3.000281\n",
            "75%        3.007171\n",
            "max        3.037902\n",
            "Name: X, dtype: float64\n",
            "Описание кластера 3\n",
            "count   1010.000000\n",
            "mean       8.034356\n",
            "std        0.830104\n",
            "min        5.673783\n",
            "25%        7.442372\n",
            "50%        8.014889\n",
            "75%        8.609319\n",
            "max       10.253214\n",
            "Name: X, dtype: float64\n",
            "Описание кластера 4\n",
            "count   989.000000\n",
            "mean     16.980821\n",
            "std       2.909147\n",
            "min      10.283501\n",
            "25%      14.979441\n",
            "50%      17.011301\n",
            "75%      18.863515\n",
            "max      26.935204\n",
            "Name: X, dtype: float64\n",
            "Описание кластера 5\n",
            "count   5000.000000\n",
            "mean      25.000030\n",
            "std        0.001007\n",
            "min       24.996481\n",
            "25%       24.999351\n",
            "50%       25.000028\n",
            "75%       25.000699\n",
            "max       25.003569\n",
            "Name: X, dtype: float64\n"
          ]
        }
      ]
    },
    {
      "cell_type": "code",
      "execution_count": null,
      "id": "be1e058d",
      "metadata": {
        "ExecuteTime": {
          "end_time": "2021-11-19T19:51:43.565239Z",
          "start_time": "2021-11-19T19:51:43.137321Z"
        },
        "id": "be1e058d",
        "outputId": "a8a14d63-d68a-4011-8d37-8d7ce164a057",
        "colab": {
          "base_uri": "https://localhost:8080/",
          "height": 596
        }
      },
      "outputs": [
        {
          "output_type": "display_data",
          "data": {
            "text/plain": [
              "<Figure size 1152x720 with 1 Axes>"
            ],
            "image/png": "[encoded data removed]"
          },
          "metadata": {
            "needs_background": "light"
          }
        }
      ],
      "source": [
        "plt.figure(figsize=(16, 10))\n",
        "plt.hist(x[clusters==0], alpha = 0.6, bins=50)\n",
        "plt.hist(x[clusters==1], alpha = 0.9, bins=50)\n",
        "plt.hist(x[clusters==2], alpha = 0.6, bins=5)\n",
        "plt.hist(x[clusters==3], alpha = 0.6, bins=50)\n",
        "plt.hist(x[clusters==4], alpha = 0.6, color='cyan', bins=50)\n",
        "plt.hist(x[clusters==5], alpha = 0.9, color='black', bins=5)\n",
        "plt.ylim(0, 200)\n",
        "plt.xlim(x.min(), x.max())\n",
        "plt.show()"
      ]
    },
    {
      "cell_type": "code",
      "source": [
        "plt.figure(figsize=(16, 10))\n",
        "plt.hist(x[clusters==2], alpha = 0.6, bins=50)\n",
        "plt.show()"
      ],
      "metadata": {
        "colab": {
          "base_uri": "https://localhost:8080/",
          "height": 592
        },
        "id": "qZQ84YYMvqrH",
        "outputId": "53d7bffc-46d3-476a-e856-88cfce3c31d3"
      },
      "id": "qZQ84YYMvqrH",
      "execution_count": null,
      "outputs": [
        {
          "output_type": "display_data",
          "data": {
            "text/plain": [
              "<Figure size 1152x720 with 1 Axes>"
            ],
            "image/png": "[encoded data removed]"
          },
          "metadata": {
            "needs_background": "light"
          }
        }
      ]
    },
    {
      "cell_type": "code",
      "source": [
        "plt.figure(figsize=(16, 10))\n",
        "plt.hist(x[clusters==5], alpha = 0.9, color='black', bins=50)\n",
        "plt.show()"
      ],
      "metadata": {
        "colab": {
          "base_uri": "https://localhost:8080/",
          "height": 605
        },
        "id": "QI6LLXU8vUUk",
        "outputId": "f9d97ae9-bae4-427d-c2e2-bd79d09d6d6b"
      },
      "id": "QI6LLXU8vUUk",
      "execution_count": null,
      "outputs": [
        {
          "output_type": "display_data",
          "data": {
            "text/plain": [
              "<Figure size 1152x720 with 1 Axes>"
            ],
            "image/png": "[encoded data removed]"
          },
          "metadata": {
            "needs_background": "light"
          }
        }
      ]
    },
    {
      "cell_type": "markdown",
      "id": "26305081",
      "metadata": {
        "id": "26305081"
      },
      "source": [
        "Видим, что в целом 4 прикинутых изначально распределения действительно весьма успешно определились ЕМ-алгоритмом, однако нормальное распределение в окрестности 0 и вырожденное распределение в окрестности 25 куда-то испарились. Возможно, при более детальном подходе к визуализации работы алгоритма получилось бы найти, куда же они спрятались..."
      ]
    },
    {
      "cell_type": "markdown",
      "id": "directed-hypothesis",
      "metadata": {
        "id": "directed-hypothesis"
      },
      "source": [
        "#### Задача 15. Из контрольной прошлого года\n",
        "\n",
        "В контрольной работе прошлого года была такая задача:\n",
        "\n",
        "> У меня есть три монетки. Они выпадают орлом с вероятностями $p_1$, $p_2$ и $p_3 = 1$. Я провожу эксперимент из 100 раундов. В каждом раунде я равновероятно выбираю одну из монеток, подбрасываю её два раза и записываю число выпавших орлов. После окончания эксперимента у меня на бумажке остаётся 100 записанных чисел. Какая монетка подкидывалась в каждом раунде, я не помню.\n",
        "\n",
        "На контрольной требовалось описать EM-алгоритм для нахождения $\\hat{p}_1$ и $\\hat{p}_2$.\n",
        "\n",
        "**[а]** **(3 балла)** В файле `15.csv` приведена описанная выборка из 100 чисел. Реализуйте EM-алгоритм для нахождения $\\hat{p}_1$ и $\\hat{p}_2$.\n",
        "\n",
        "**[б]** Постройте график $Q$ в зависимости от числа итераций.\n",
        "\n",
        "**[в]** Изучите выборку и прокомментируйте адекватность полученных оценок."
      ]
    },
    {
      "cell_type": "code",
      "execution_count": null,
      "id": "entertaining-column",
      "metadata": {
        "ExecuteTime": {
          "end_time": "2021-09-11T08:39:43.362835Z",
          "start_time": "2021-09-11T08:39:42.914281Z"
        },
        "id": "entertaining-column",
        "outputId": "27939d23-6a49-47a1-c3c7-56a19fd7109b",
        "colab": {
          "base_uri": "https://localhost:8080/",
          "height": 424
        }
      },
      "outputs": [
        {
          "output_type": "execute_result",
          "data": {
            "text/plain": [
              "    X\n",
              "0   2\n",
              "1   1\n",
              "2   2\n",
              "3   2\n",
              "4   0\n",
              ".. ..\n",
              "95  1\n",
              "96  2\n",
              "97  2\n",
              "98  1\n",
              "99  2\n",
              "\n",
              "[100 rows x 1 columns]"
            ],
            "text/html": [
              "\n",
              "  <div id=\"df-741d4732-9f37-4435-8a53-58ab95ca555e\">\n",
              "    <div class=\"colab-df-container\">\n",
              "      <div>\n",
              "<style scoped>\n",
              "    .dataframe tbody tr th:only-of-type {\n",
              "        vertical-align: middle;\n",
              "    }\n",
              "\n",
              "    .dataframe tbody tr th {\n",
              "        vertical-align: top;\n",
              "    }\n",
              "\n",
              "    .dataframe thead th {\n",
              "        text-align: right;\n",
              "    }\n",
              "</style>\n",
              "<table border=\"1\" class=\"dataframe\">\n",
              "  <thead>\n",
              "    <tr style=\"text-align: right;\">\n",
              "      <th></th>\n",
              "      <th>X</th>\n",
              "    </tr>\n",
              "  </thead>\n",
              "  <tbody>\n",
              "    <tr>\n",
              "      <th>0</th>\n",
              "      <td>2</td>\n",
              "    </tr>\n",
              "    <tr>\n",
              "      <th>1</th>\n",
              "      <td>1</td>\n",
              "    </tr>\n",
              "    <tr>\n",
              "      <th>2</th>\n",
              "      <td>2</td>\n",
              "    </tr>\n",
              "    <tr>\n",
              "      <th>3</th>\n",
              "      <td>2</td>\n",
              "    </tr>\n",
              "    <tr>\n",
              "      <th>4</th>\n",
              "      <td>0</td>\n",
              "    </tr>\n",
              "    <tr>\n",
              "      <th>...</th>\n",
              "      <td>...</td>\n",
              "    </tr>\n",
              "    <tr>\n",
              "      <th>95</th>\n",
              "      <td>1</td>\n",
              "    </tr>\n",
              "    <tr>\n",
              "      <th>96</th>\n",
              "      <td>2</td>\n",
              "    </tr>\n",
              "    <tr>\n",
              "      <th>97</th>\n",
              "      <td>2</td>\n",
              "    </tr>\n",
              "    <tr>\n",
              "      <th>98</th>\n",
              "      <td>1</td>\n",
              "    </tr>\n",
              "    <tr>\n",
              "      <th>99</th>\n",
              "      <td>2</td>\n",
              "    </tr>\n",
              "  </tbody>\n",
              "</table>\n",
              "<p>100 rows × 1 columns</p>\n",
              "</div>\n",
              "      <button class=\"colab-df-convert\" onclick=\"convertToInteractive('df-741d4732-9f37-4435-8a53-58ab95ca555e')\"\n",
              "              title=\"Convert this dataframe to an interactive table.\"\n",
              "              style=\"display:none;\">\n",
              "        \n",
              "  <svg xmlns=\"http://www.w3.org/2000/svg\" height=\"24px\"viewBox=\"0 0 24 24\"\n",
              "       width=\"24px\">\n",
              "    <path d=\"M0 0h24v24H0V0z\" fill=\"none\"/>\n",
              "    <path d=\"M18.56 5.44l.94 2.06.94-2.06 2.06-.94-2.06-.94-.94-2.06-.94 2.06-2.06.94zm-11 1L8.5 8.5l.94-2.06 2.06-.94-2.06-.94L8.5 2.5l-.94 2.06-2.06.94zm10 10l.94 2.06.94-2.06 2.06-.94-2.06-.94-.94-2.06-.94 2.06-2.06.94z\"/><path d=\"M17.41 7.96l-1.37-1.37c-.4-.4-.92-.59-1.43-.59-.52 0-1.04.2-1.43.59L10.3 9.45l-7.72 7.72c-.78.78-.78 2.05 0 2.83L4 21.41c.39.39.9.59 1.41.59.51 0 1.02-.2 1.41-.59l7.78-7.78 2.81-2.81c.8-.78.8-2.07 0-2.86zM5.41 20L4 18.59l7.72-7.72 1.47 1.35L5.41 20z\"/>\n",
              "  </svg>\n",
              "      </button>\n",
              "      \n",
              "  <style>\n",
              "    .colab-df-container {\n",
              "      display:flex;\n",
              "      flex-wrap:wrap;\n",
              "      gap: 12px;\n",
              "    }\n",
              "\n",
              "    .colab-df-convert {\n",
              "      background-color: #E8F0FE;\n",
              "      border: none;\n",
              "      border-radius: 50%;\n",
              "      cursor: pointer;\n",
              "      display: none;\n",
              "      fill: #1967D2;\n",
              "      height: 32px;\n",
              "      padding: 0 0 0 0;\n",
              "      width: 32px;\n",
              "    }\n",
              "\n",
              "    .colab-df-convert:hover {\n",
              "      background-color: #E2EBFA;\n",
              "      box-shadow: 0px 1px 2px rgba(60, 64, 67, 0.3), 0px 1px 3px 1px rgba(60, 64, 67, 0.15);\n",
              "      fill: #174EA6;\n",
              "    }\n",
              "\n",
              "    [theme=dark] .colab-df-convert {\n",
              "      background-color: #3B4455;\n",
              "      fill: #D2E3FC;\n",
              "    }\n",
              "\n",
              "    [theme=dark] .colab-df-convert:hover {\n",
              "      background-color: #434B5C;\n",
              "      box-shadow: 0px 1px 3px 1px rgba(0, 0, 0, 0.15);\n",
              "      filter: drop-shadow(0px 1px 2px rgba(0, 0, 0, 0.3));\n",
              "      fill: #FFFFFF;\n",
              "    }\n",
              "  </style>\n",
              "\n",
              "      <script>\n",
              "        const buttonEl =\n",
              "          document.querySelector('#df-741d4732-9f37-4435-8a53-58ab95ca555e button.colab-df-convert');\n",
              "        buttonEl.style.display =\n",
              "          google.colab.kernel.accessAllowed ? 'block' : 'none';\n",
              "\n",
              "        async function convertToInteractive(key) {\n",
              "          const element = document.querySelector('#df-741d4732-9f37-4435-8a53-58ab95ca555e');\n",
              "          const dataTable =\n",
              "            await google.colab.kernel.invokeFunction('convertToInteractive',\n",
              "                                                     [key], {});\n",
              "          if (!dataTable) return;\n",
              "\n",
              "          const docLinkHtml = 'Like what you see? Visit the ' +\n",
              "            '<a target=\"_blank\" href=https://colab.research.google.com/notebooks/data_table.ipynb>data table notebook</a>'\n",
              "            + ' to learn more about interactive tables.';\n",
              "          element.innerHTML = '';\n",
              "          dataTable['output_type'] = 'display_data';\n",
              "          await google.colab.output.renderOutput(dataTable, element);\n",
              "          const docLink = document.createElement('div');\n",
              "          docLink.innerHTML = docLinkHtml;\n",
              "          element.appendChild(docLink);\n",
              "        }\n",
              "      </script>\n",
              "    </div>\n",
              "  </div>\n",
              "  "
            ]
          },
          "metadata": {},
          "execution_count": 24
        }
      ],
      "source": [
        "data15 = pd.read_csv('https://raw.githubusercontent.com/V-Marco/psmo_21_22/main/hw/hw1/15.csv', \n",
        "                     usecols=[1])\n",
        "data15"
      ]
    },
    {
      "cell_type": "code",
      "execution_count": null,
      "id": "da355b25",
      "metadata": {
        "ExecuteTime": {
          "end_time": "2021-09-11T08:39:59.504824Z",
          "start_time": "2021-09-11T08:39:59.447672Z"
        },
        "id": "da355b25",
        "outputId": "8a5c6ca1-c112-431f-e03e-a8bc3db1b0e2",
        "colab": {
          "base_uri": "https://localhost:8080/"
        }
      },
      "outputs": [
        {
          "output_type": "execute_result",
          "data": {
            "text/plain": [
              "X\n",
              "2    38\n",
              "1    32\n",
              "0    30\n",
              "dtype: int64"
            ]
          },
          "metadata": {},
          "execution_count": 25
        }
      ],
      "source": [
        "data15.value_counts()"
      ]
    },
    {
      "cell_type": "markdown",
      "id": "b5ce7d28",
      "metadata": {
        "id": "b5ce7d28"
      },
      "source": [
        "##### (a) Реализуйте EM-алгоритм для нахождения $\\hat{p}_1$ и $\\hat{p}_2$."
      ]
    },
    {
      "cell_type": "markdown",
      "source": [
        "$$ L(X | p_1, p_2) = \\prod\\limits_{i=1}^{100} (\\frac{1}{3}\\text{Bin}(2, p_1)+\\frac{1}{3}\\text{Bin}(2, p_2)+\\frac{1}{3}\\text{Bin}(2, 1)) $$"
      ],
      "metadata": {
        "id": "X59E3ehNrYBg"
      },
      "id": "X59E3ehNrYBg"
    },
    {
      "cell_type": "code",
      "execution_count": null,
      "id": "fc9e1c20",
      "metadata": {
        "id": "fc9e1c20"
      },
      "outputs": [],
      "source": [
        "# Задайте плотность x\n",
        "def f(x, n, p):\n",
        "    return p**(x)*(1-p)**(x)   "
      ]
    },
    {
      "cell_type": "markdown",
      "id": "5b13249d",
      "metadata": {
        "id": "5b13249d"
      },
      "source": [
        "##### (б) Постройте график $Q$ в зависимости от числа итераций."
      ]
    },
    {
      "cell_type": "code",
      "execution_count": null,
      "id": "e0bcdd57",
      "metadata": {
        "id": "e0bcdd57"
      },
      "outputs": [],
      "source": []
    },
    {
      "cell_type": "markdown",
      "id": "8af04158",
      "metadata": {
        "id": "8af04158"
      },
      "source": [
        "##### (в) Изучите выборку и прокомментируйте адекватность полученных оценок."
      ]
    },
    {
      "cell_type": "code",
      "execution_count": null,
      "id": "046d3f65",
      "metadata": {
        "id": "046d3f65"
      },
      "outputs": [],
      "source": []
    }
  ],
  "metadata": {
    "colab": {
      "provenance": []
    },
    "kernelspec": {
      "display_name": "Python 3",
      "language": "python",
      "name": "python3"
    },
    "language_info": {
      "codemirror_mode": {
        "name": "ipython",
        "version": 3
      },
      "file_extension": ".py",
      "mimetype": "text/x-python",
      "name": "python",
      "nbconvert_exporter": "python",
      "pygments_lexer": "ipython3",
      "version": "3.8.8"
    },
    "toc": {
      "base_numbering": 1,
      "nav_menu": {},
      "number_sections": true,
      "sideBar": true,
      "skip_h1_title": false,
      "title_cell": "Table of Contents",
      "title_sidebar": "Contents",
      "toc_cell": false,
      "toc_position": {},
      "toc_section_display": true,
      "toc_window_display": false
    },
    "varInspector": {
      "cols": {
        "lenName": 16,
        "lenType": 16,
        "lenVar": 40
      },
      "kernels_config": {
        "python": {
          "delete_cmd_postfix": "",
          "delete_cmd_prefix": "del ",
          "library": "var_list.py",
          "varRefreshCmd": "print(var_dic_list())"
        },
        "r": {
          "delete_cmd_postfix": ") ",
          "delete_cmd_prefix": "rm(",
          "library": "var_list.r",
          "varRefreshCmd": "cat(var_dic_list()) "
        }
      },
      "types_to_exclude": [
        "module",
        "function",
        "builtin_function_or_method",
        "instance",
        "_Feature"
      ],
      "window_display": false
    }
  },
  "nbformat": 4,
  "nbformat_minor": 5
}